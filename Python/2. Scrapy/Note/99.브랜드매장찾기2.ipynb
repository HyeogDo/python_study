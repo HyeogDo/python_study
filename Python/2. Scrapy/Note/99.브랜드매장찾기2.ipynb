{
 "cells": [
  {
   "cell_type": "code",
   "execution_count": 1,
   "metadata": {},
   "outputs": [],
   "source": [
    "from selenium import webdriver\n",
    "from selenium.webdriver.chrome.service import Service\n",
    "from webdriver_manager.chrome import ChromeDriverManager\n",
    "from selenium.webdriver.common.by import By\n",
    "import pandas as pd"
   ]
  },
  {
   "cell_type": "code",
   "execution_count": 2,
   "metadata": {},
   "outputs": [
    {
     "name": "stdout",
     "output_type": "stream",
     "text": [
      "\n"
     ]
    },
    {
     "name": "stderr",
     "output_type": "stream",
     "text": [
      "[WDM] - ====== WebDriver manager ======\n",
      "[WDM] - Current google-chrome version is 103.0.5060\n",
      "[WDM] - Get LATEST chromedriver version for 103.0.5060 google-chrome\n",
      "[WDM] - Driver [/Users/tj/.wdm/drivers/chromedriver/mac64/103.0.5060.53/chromedriver] found in cache\n"
     ]
    }
   ],
   "source": [
    "# Chrome Browser와 Chrome Driver Version 확인하기\n",
    "\n",
    "chrome_options = webdriver.ChromeOptions()\n",
    "driver = webdriver.Chrome(service=Service(ChromeDriverManager().install()), options=chrome_options)\n",
    "driver.get(\"http://www.baskinrobbins.co.kr/store/map.php\")"
   ]
  },
  {
   "cell_type": "code",
   "execution_count": 5,
   "metadata": {},
   "outputs": [
    {
     "data": {
      "text/plain": [
       "['강원',\n",
       " '경기',\n",
       " '경남',\n",
       " '경북',\n",
       " '광주',\n",
       " '대구',\n",
       " '대전',\n",
       " '부산',\n",
       " '서울',\n",
       " '세종',\n",
       " '울산',\n",
       " '인천',\n",
       " '전남',\n",
       " '전북',\n",
       " '제주',\n",
       " '충남',\n",
       " '충북']"
      ]
     },
     "execution_count": 5,
     "metadata": {},
     "output_type": "execute_result"
    }
   ],
   "source": [
    "# 시도 가져오기\n",
    "# //*[@id=\"nform\"]/fieldset/p[1]/span[1]/select\n",
    "\n",
    "sido_list_raw = driver.find_element(By.XPATH, '//*[@id=\"nform\"]/fieldset/p[1]/span[1]/select')\n",
    "sido_list = sido_list_raw.find_elements(By.TAG_NAME,\"option\")\n",
    "\n",
    "sido_names = [option.get_attribute(\"value\") for option in sido_list]\n",
    "sido_names.remove(\"\")\n",
    "sido_names"
   ]
  },
  {
   "cell_type": "code",
   "execution_count": 8,
   "metadata": {},
   "outputs": [],
   "source": [
    "\n",
    "# 조회버튼 click\n",
    "# //*[@id=\"nform\"]/fieldset/div[2]/button\n",
    "xpath = '//*[@id=\"nform\"]/fieldset/div[2]/button'\n",
    "element_find_btn = driver.find_element(By.XPATH, xpath).click()"
   ]
  },
  {
   "cell_type": "code",
   "execution_count": 106,
   "metadata": {},
   "outputs": [
    {
     "data": {
      "text/plain": [
       "'40'"
      ]
     },
     "execution_count": 106,
     "metadata": {},
     "output_type": "execute_result"
    }
   ],
   "source": [
    "names_raw2[39].text"
   ]
  },
  {
   "cell_type": "code",
   "execution_count": 114,
   "metadata": {},
   "outputs": [
    {
     "ename": "WebDriverException",
     "evalue": "Message: unknown error: cannot determine loading status\nfrom unknown error: unexpected command response\n  (Session info: chrome=103.0.5060.53)\nStacktrace:\n0   chromedriver                        0x0000000109fbe079 chromedriver + 4444281\n1   chromedriver                        0x0000000109f4a403 chromedriver + 3970051\n2   chromedriver                        0x0000000109be5038 chromedriver + 409656\n3   chromedriver                        0x0000000109bd23c8 chromedriver + 332744\n4   chromedriver                        0x0000000109bd1ac7 chromedriver + 330439\n5   chromedriver                        0x0000000109bd1047 chromedriver + 327751\n6   chromedriver                        0x0000000109bcff16 chromedriver + 323350\n7   chromedriver                        0x0000000109bd044c chromedriver + 324684\n8   chromedriver                        0x0000000109bdd67e chromedriver + 378494\n9   chromedriver                        0x0000000109bddf22 chromedriver + 380706\n10  chromedriver                        0x0000000109bec5b3 chromedriver + 439731\n11  chromedriver                        0x0000000109bf047a chromedriver + 455802\n12  chromedriver                        0x0000000109bd077e chromedriver + 325502\n13  chromedriver                        0x0000000109bec1fa chromedriver + 438778\n14  chromedriver                        0x0000000109c4b62d chromedriver + 828973\n15  chromedriver                        0x0000000109c38683 chromedriver + 751235\n16  chromedriver                        0x0000000109c0ea45 chromedriver + 580165\n17  chromedriver                        0x0000000109c0fa95 chromedriver + 584341\n18  chromedriver                        0x0000000109f8f55d chromedriver + 4253021\n19  chromedriver                        0x0000000109f943a1 chromedriver + 4273057\n20  chromedriver                        0x0000000109f9916f chromedriver + 4292975\n21  chromedriver                        0x0000000109f94dea chromedriver + 4275690\n22  chromedriver                        0x0000000109f6e54f chromedriver + 4117839\n23  chromedriver                        0x0000000109faeed8 chromedriver + 4382424\n24  chromedriver                        0x0000000109faf05f chromedriver + 4382815\n25  chromedriver                        0x0000000109fc58d5 chromedriver + 4475093\n26  libsystem_pthread.dylib             0x00007ff810bfb4f4 _pthread_start + 125\n27  libsystem_pthread.dylib             0x00007ff810bf700f thread_start + 15\n",
     "output_type": "error",
     "traceback": [
      "\u001b[0;31m---------------------------------------------------------------------------\u001b[0m",
      "\u001b[0;31mWebDriverException\u001b[0m                        Traceback (most recent call last)",
      "\u001b[0;32m/var/folders/51/xmc_l6t13wv1nc5z6qmyg58r0000gn/T/ipykernel_4822/3221509284.py\u001b[0m in \u001b[0;36m<module>\u001b[0;34m\u001b[0m\n\u001b[1;32m     13\u001b[0m   \u001b[0;31m# //*[@id=\"nform\"]/fieldset/div[2]/button\u001b[0m\u001b[0;34m\u001b[0m\u001b[0;34m\u001b[0m\u001b[0m\n\u001b[1;32m     14\u001b[0m   \u001b[0mxpath\u001b[0m \u001b[0;34m=\u001b[0m \u001b[0;34m'//*[@id=\"nform\"]/fieldset/div[2]/button'\u001b[0m\u001b[0;34m\u001b[0m\u001b[0;34m\u001b[0m\u001b[0m\n\u001b[0;32m---> 15\u001b[0;31m   \u001b[0melement_find_btn\u001b[0m \u001b[0;34m=\u001b[0m \u001b[0mdriver\u001b[0m\u001b[0;34m.\u001b[0m\u001b[0mfind_element\u001b[0m\u001b[0;34m(\u001b[0m\u001b[0mBy\u001b[0m\u001b[0;34m.\u001b[0m\u001b[0mXPATH\u001b[0m\u001b[0;34m,\u001b[0m \u001b[0mxpath\u001b[0m\u001b[0;34m)\u001b[0m\u001b[0;34m.\u001b[0m\u001b[0mclick\u001b[0m\u001b[0;34m(\u001b[0m\u001b[0;34m)\u001b[0m\u001b[0;34m\u001b[0m\u001b[0;34m\u001b[0m\u001b[0m\n\u001b[0m\u001b[1;32m     16\u001b[0m \u001b[0;34m\u001b[0m\u001b[0m\n\u001b[1;32m     17\u001b[0m   \u001b[0mtime\u001b[0m\u001b[0;34m.\u001b[0m\u001b[0msleep\u001b[0m\u001b[0;34m(\u001b[0m\u001b[0;36m1\u001b[0m\u001b[0;34m)\u001b[0m\u001b[0;34m\u001b[0m\u001b[0;34m\u001b[0m\u001b[0m\n",
      "\u001b[0;32m~/opt/anaconda3/lib/python3.9/site-packages/selenium/webdriver/remote/webelement.py\u001b[0m in \u001b[0;36mclick\u001b[0;34m(self)\u001b[0m\n\u001b[1;32m     86\u001b[0m     \u001b[0;32mdef\u001b[0m \u001b[0mclick\u001b[0m\u001b[0;34m(\u001b[0m\u001b[0mself\u001b[0m\u001b[0;34m)\u001b[0m \u001b[0;34m->\u001b[0m \u001b[0;32mNone\u001b[0m\u001b[0;34m:\u001b[0m\u001b[0;34m\u001b[0m\u001b[0;34m\u001b[0m\u001b[0m\n\u001b[1;32m     87\u001b[0m         \u001b[0;34m\"\"\"Clicks the element.\"\"\"\u001b[0m\u001b[0;34m\u001b[0m\u001b[0;34m\u001b[0m\u001b[0m\n\u001b[0;32m---> 88\u001b[0;31m         \u001b[0mself\u001b[0m\u001b[0;34m.\u001b[0m\u001b[0m_execute\u001b[0m\u001b[0;34m(\u001b[0m\u001b[0mCommand\u001b[0m\u001b[0;34m.\u001b[0m\u001b[0mCLICK_ELEMENT\u001b[0m\u001b[0;34m)\u001b[0m\u001b[0;34m\u001b[0m\u001b[0;34m\u001b[0m\u001b[0m\n\u001b[0m\u001b[1;32m     89\u001b[0m \u001b[0;34m\u001b[0m\u001b[0m\n\u001b[1;32m     90\u001b[0m     \u001b[0;32mdef\u001b[0m \u001b[0msubmit\u001b[0m\u001b[0;34m(\u001b[0m\u001b[0mself\u001b[0m\u001b[0;34m)\u001b[0m\u001b[0;34m:\u001b[0m\u001b[0;34m\u001b[0m\u001b[0;34m\u001b[0m\u001b[0m\n",
      "\u001b[0;32m~/opt/anaconda3/lib/python3.9/site-packages/selenium/webdriver/remote/webelement.py\u001b[0m in \u001b[0;36m_execute\u001b[0;34m(self, command, params)\u001b[0m\n\u001b[1;32m    394\u001b[0m             \u001b[0mparams\u001b[0m \u001b[0;34m=\u001b[0m \u001b[0;34m{\u001b[0m\u001b[0;34m}\u001b[0m\u001b[0;34m\u001b[0m\u001b[0;34m\u001b[0m\u001b[0m\n\u001b[1;32m    395\u001b[0m         \u001b[0mparams\u001b[0m\u001b[0;34m[\u001b[0m\u001b[0;34m'id'\u001b[0m\u001b[0;34m]\u001b[0m \u001b[0;34m=\u001b[0m \u001b[0mself\u001b[0m\u001b[0;34m.\u001b[0m\u001b[0m_id\u001b[0m\u001b[0;34m\u001b[0m\u001b[0;34m\u001b[0m\u001b[0m\n\u001b[0;32m--> 396\u001b[0;31m         \u001b[0;32mreturn\u001b[0m \u001b[0mself\u001b[0m\u001b[0;34m.\u001b[0m\u001b[0m_parent\u001b[0m\u001b[0;34m.\u001b[0m\u001b[0mexecute\u001b[0m\u001b[0;34m(\u001b[0m\u001b[0mcommand\u001b[0m\u001b[0;34m,\u001b[0m \u001b[0mparams\u001b[0m\u001b[0;34m)\u001b[0m\u001b[0;34m\u001b[0m\u001b[0;34m\u001b[0m\u001b[0m\n\u001b[0m\u001b[1;32m    397\u001b[0m \u001b[0;34m\u001b[0m\u001b[0m\n\u001b[1;32m    398\u001b[0m     \u001b[0;32mdef\u001b[0m \u001b[0mfind_element\u001b[0m\u001b[0;34m(\u001b[0m\u001b[0mself\u001b[0m\u001b[0;34m,\u001b[0m \u001b[0mby\u001b[0m\u001b[0;34m=\u001b[0m\u001b[0mBy\u001b[0m\u001b[0;34m.\u001b[0m\u001b[0mID\u001b[0m\u001b[0;34m,\u001b[0m \u001b[0mvalue\u001b[0m\u001b[0;34m=\u001b[0m\u001b[0;32mNone\u001b[0m\u001b[0;34m)\u001b[0m \u001b[0;34m->\u001b[0m \u001b[0mWebElement\u001b[0m\u001b[0;34m:\u001b[0m\u001b[0;34m\u001b[0m\u001b[0;34m\u001b[0m\u001b[0m\n",
      "\u001b[0;32m~/opt/anaconda3/lib/python3.9/site-packages/selenium/webdriver/remote/webdriver.py\u001b[0m in \u001b[0;36mexecute\u001b[0;34m(self, driver_command, params)\u001b[0m\n\u001b[1;32m    433\u001b[0m         \u001b[0mresponse\u001b[0m \u001b[0;34m=\u001b[0m \u001b[0mself\u001b[0m\u001b[0;34m.\u001b[0m\u001b[0mcommand_executor\u001b[0m\u001b[0;34m.\u001b[0m\u001b[0mexecute\u001b[0m\u001b[0;34m(\u001b[0m\u001b[0mdriver_command\u001b[0m\u001b[0;34m,\u001b[0m \u001b[0mparams\u001b[0m\u001b[0;34m)\u001b[0m\u001b[0;34m\u001b[0m\u001b[0;34m\u001b[0m\u001b[0m\n\u001b[1;32m    434\u001b[0m         \u001b[0;32mif\u001b[0m \u001b[0mresponse\u001b[0m\u001b[0;34m:\u001b[0m\u001b[0;34m\u001b[0m\u001b[0;34m\u001b[0m\u001b[0m\n\u001b[0;32m--> 435\u001b[0;31m             \u001b[0mself\u001b[0m\u001b[0;34m.\u001b[0m\u001b[0merror_handler\u001b[0m\u001b[0;34m.\u001b[0m\u001b[0mcheck_response\u001b[0m\u001b[0;34m(\u001b[0m\u001b[0mresponse\u001b[0m\u001b[0;34m)\u001b[0m\u001b[0;34m\u001b[0m\u001b[0;34m\u001b[0m\u001b[0m\n\u001b[0m\u001b[1;32m    436\u001b[0m             response['value'] = self._unwrap_value(\n\u001b[1;32m    437\u001b[0m                 response.get('value', None))\n",
      "\u001b[0;32m~/opt/anaconda3/lib/python3.9/site-packages/selenium/webdriver/remote/errorhandler.py\u001b[0m in \u001b[0;36mcheck_response\u001b[0;34m(self, response)\u001b[0m\n\u001b[1;32m    245\u001b[0m                 \u001b[0malert_text\u001b[0m \u001b[0;34m=\u001b[0m \u001b[0mvalue\u001b[0m\u001b[0;34m[\u001b[0m\u001b[0;34m'alert'\u001b[0m\u001b[0;34m]\u001b[0m\u001b[0;34m.\u001b[0m\u001b[0mget\u001b[0m\u001b[0;34m(\u001b[0m\u001b[0;34m'text'\u001b[0m\u001b[0;34m)\u001b[0m\u001b[0;34m\u001b[0m\u001b[0;34m\u001b[0m\u001b[0m\n\u001b[1;32m    246\u001b[0m             \u001b[0;32mraise\u001b[0m \u001b[0mexception_class\u001b[0m\u001b[0;34m(\u001b[0m\u001b[0mmessage\u001b[0m\u001b[0;34m,\u001b[0m \u001b[0mscreen\u001b[0m\u001b[0;34m,\u001b[0m \u001b[0mstacktrace\u001b[0m\u001b[0;34m,\u001b[0m \u001b[0malert_text\u001b[0m\u001b[0;34m)\u001b[0m  \u001b[0;31m# type: ignore[call-arg]  # mypy is not smart enough here\u001b[0m\u001b[0;34m\u001b[0m\u001b[0;34m\u001b[0m\u001b[0m\n\u001b[0;32m--> 247\u001b[0;31m         \u001b[0;32mraise\u001b[0m \u001b[0mexception_class\u001b[0m\u001b[0;34m(\u001b[0m\u001b[0mmessage\u001b[0m\u001b[0;34m,\u001b[0m \u001b[0mscreen\u001b[0m\u001b[0;34m,\u001b[0m \u001b[0mstacktrace\u001b[0m\u001b[0;34m)\u001b[0m\u001b[0;34m\u001b[0m\u001b[0;34m\u001b[0m\u001b[0m\n\u001b[0m\u001b[1;32m    248\u001b[0m \u001b[0;34m\u001b[0m\u001b[0m\n\u001b[1;32m    249\u001b[0m     \u001b[0;32mdef\u001b[0m \u001b[0m_value_or_default\u001b[0m\u001b[0;34m(\u001b[0m\u001b[0mself\u001b[0m\u001b[0;34m,\u001b[0m \u001b[0mobj\u001b[0m\u001b[0;34m:\u001b[0m \u001b[0mMapping\u001b[0m\u001b[0;34m[\u001b[0m\u001b[0m_KT\u001b[0m\u001b[0;34m,\u001b[0m \u001b[0m_VT\u001b[0m\u001b[0;34m]\u001b[0m\u001b[0;34m,\u001b[0m \u001b[0mkey\u001b[0m\u001b[0;34m:\u001b[0m \u001b[0m_KT\u001b[0m\u001b[0;34m,\u001b[0m \u001b[0mdefault\u001b[0m\u001b[0;34m:\u001b[0m \u001b[0m_VT\u001b[0m\u001b[0;34m)\u001b[0m \u001b[0;34m->\u001b[0m \u001b[0m_VT\u001b[0m\u001b[0;34m:\u001b[0m\u001b[0;34m\u001b[0m\u001b[0;34m\u001b[0m\u001b[0m\n",
      "\u001b[0;31mWebDriverException\u001b[0m: Message: unknown error: cannot determine loading status\nfrom unknown error: unexpected command response\n  (Session info: chrome=103.0.5060.53)\nStacktrace:\n0   chromedriver                        0x0000000109fbe079 chromedriver + 4444281\n1   chromedriver                        0x0000000109f4a403 chromedriver + 3970051\n2   chromedriver                        0x0000000109be5038 chromedriver + 409656\n3   chromedriver                        0x0000000109bd23c8 chromedriver + 332744\n4   chromedriver                        0x0000000109bd1ac7 chromedriver + 330439\n5   chromedriver                        0x0000000109bd1047 chromedriver + 327751\n6   chromedriver                        0x0000000109bcff16 chromedriver + 323350\n7   chromedriver                        0x0000000109bd044c chromedriver + 324684\n8   chromedriver                        0x0000000109bdd67e chromedriver + 378494\n9   chromedriver                        0x0000000109bddf22 chromedriver + 380706\n10  chromedriver                        0x0000000109bec5b3 chromedriver + 439731\n11  chromedriver                        0x0000000109bf047a chromedriver + 455802\n12  chromedriver                        0x0000000109bd077e chromedriver + 325502\n13  chromedriver                        0x0000000109bec1fa chromedriver + 438778\n14  chromedriver                        0x0000000109c4b62d chromedriver + 828973\n15  chromedriver                        0x0000000109c38683 chromedriver + 751235\n16  chromedriver                        0x0000000109c0ea45 chromedriver + 580165\n17  chromedriver                        0x0000000109c0fa95 chromedriver + 584341\n18  chromedriver                        0x0000000109f8f55d chromedriver + 4253021\n19  chromedriver                        0x0000000109f943a1 chromedriver + 4273057\n20  chromedriver                        0x0000000109f9916f chromedriver + 4292975\n21  chromedriver                        0x0000000109f94dea chromedriver + 4275690\n22  chromedriver                        0x0000000109f6e54f chromedriver + 4117839\n23  chromedriver                        0x0000000109faeed8 chromedriver + 4382424\n24  chromedriver                        0x0000000109faf05f chromedriver + 4382815\n25  chromedriver                        0x0000000109fc58d5 chromedriver + 4475093\n26  libsystem_pthread.dylib             0x00007ff810bfb4f4 _pthread_start + 125\n27  libsystem_pthread.dylib             0x00007ff810bf700f thread_start + 15\n"
     ]
    }
   ],
   "source": [
    "# 화면에 그림을 그리는 시간이 필요하므로 이를 delay 시키자!\n",
    "\n",
    "import time\n",
    "\n",
    "for sido in sido_names:\n",
    "  # 구 선택하기\n",
    "  element = driver.find_element(By.XPATH, '//*[@id=\"nform\"]/fieldset/p[1]/span[1]/select')\n",
    "  element.send_keys(sido)\n",
    "\n",
    "  time.sleep(2)\n",
    "\n",
    "  # 조회버튼 click\n",
    "  # //*[@id=\"nform\"]/fieldset/div[2]/button\n",
    "  xpath = '//*[@id=\"nform\"]/fieldset/div[2]/button'\n",
    "  element_find_btn = driver.find_element(By.XPATH, xpath).click()\n",
    "\n",
    "  time.sleep(1)\n",
    "\n",
    "  # 값 저장하기\n",
    "\n",
    "  address_raw = driver.find_element(By.XPATH, '//*[@id=\"content\"]/div/div[2]/div[3]/div/ul')\n",
    "  address_raw2 = address_raw.find_elements(By.TAG_NAME, 'span')\n",
    "  address = []\n",
    "  for i in range(len(address_raw2) // 4):\n",
    "    address.append(address_raw2[i*4].text)\n",
    "\n",
    "  names_raw = driver.find_element(By.XPATH, '//*[@id=\"content\"]/div/div[2]/div[3]/div/ul')\n",
    "  names_raw2 = names_raw.find_elements(By.CLASS_NAME, \"name\")\n",
    "  names = []\n",
    "  for i in names_raw2:\n",
    "    try:\n",
    "      names.append(i.text.split(\"\\n\")[1])\n",
    "    except:\n",
    "      names.append(\"비어있음\")\n",
    "\n",
    "  df = pd.DataFrame(data=names, columns=[\"매장명\"])\n",
    "  df[\"매장주소\"] = pd.Series(address)\n",
    "  df.to_csv(f\"../Data/베스킨라벤스/{sido}.csv\" , encoding=\"utf-8\", index=False)\n",
    "\n",
    "  time.sleep(1)"
   ]
  }
 ],
 "metadata": {
  "kernelspec": {
   "display_name": "Python 3.9.7 ('base')",
   "language": "python",
   "name": "python3"
  },
  "language_info": {
   "codemirror_mode": {
    "name": "ipython",
    "version": 3
   },
   "file_extension": ".py",
   "mimetype": "text/x-python",
   "name": "python",
   "nbconvert_exporter": "python",
   "pygments_lexer": "ipython3",
   "version": "3.9.7"
  },
  "orig_nbformat": 4,
  "vscode": {
   "interpreter": {
    "hash": "c34e8390e776d2ee205b71ed5a6130fee3cef8da5e87e926ce18e14f4a070d72"
   }
  }
 },
 "nbformat": 4,
 "nbformat_minor": 2
}

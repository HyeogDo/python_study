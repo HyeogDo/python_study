{
 "cells": [
  {
   "cell_type": "code",
   "execution_count": 1,
   "metadata": {},
   "outputs": [],
   "source": [
    "from selenium import webdriver\n",
    "from selenium.webdriver.chrome.service import Service\n",
    "from webdriver_manager.chrome import ChromeDriverManager\n",
    "from selenium.webdriver.common.by import By\n",
    "import pandas as pd\n",
    "\n"
   ]
  },
  {
   "cell_type": "code",
   "execution_count": 28,
   "metadata": {},
   "outputs": [
    {
     "name": "stdout",
     "output_type": "stream",
     "text": [
      "\n"
     ]
    },
    {
     "name": "stderr",
     "output_type": "stream",
     "text": [
      "[WDM] - ====== WebDriver manager ======\n",
      "[WDM] - Current google-chrome version is 103.0.5060\n",
      "[WDM] - Get LATEST chromedriver version for 103.0.5060 google-chrome\n",
      "[WDM] - Driver [/Users/tj/.wdm/drivers/chromedriver/mac64/103.0.5060.53/chromedriver] found in cache\n"
     ]
    }
   ],
   "source": [
    "# Chrome Browser와 Chrome Driver Version 확인하기\n",
    "\n",
    "chrome_options = webdriver.ChromeOptions()\n",
    "driver = webdriver.Chrome(service=Service(ChromeDriverManager().install()), options=chrome_options)\n",
    "driver.get(\"https://www.bonif.co.kr/store/list\")"
   ]
  },
  {
   "cell_type": "code",
   "execution_count": 29,
   "metadata": {},
   "outputs": [
    {
     "data": {
      "text/plain": [
       "['서울특별시',\n",
       " '부산광역시',\n",
       " '대구광역시',\n",
       " '인천광역시',\n",
       " '광주광역시',\n",
       " '대전광역시',\n",
       " '울산광역시',\n",
       " '경기도',\n",
       " '강원도',\n",
       " '충청북도',\n",
       " '충청남도',\n",
       " '전라북도',\n",
       " '전라남도',\n",
       " '경상북도',\n",
       " '경상남도',\n",
       " '제주특별자치도',\n",
       " '세종특별자치시']"
      ]
     },
     "execution_count": 29,
     "metadata": {},
     "output_type": "execute_result"
    }
   ],
   "source": [
    "# 시도 가져오기\n",
    "# //*[@id=\"sido\"]\n",
    "\n",
    "sido_list_raw = driver.find_element(By.XPATH, '//*[@id=\"sido\"]')\n",
    "sido_list = sido_list_raw.find_elements(By.TAG_NAME,\"option\")\n",
    "\n",
    "sido_names = [option.get_attribute(\"value\") for option in sido_list]\n",
    "sido_names.remove(\"\")\n",
    "sido_names"
   ]
  },
  {
   "cell_type": "code",
   "execution_count": 4,
   "metadata": {},
   "outputs": [],
   "source": [
    "# # 자치구명 가져오기\n",
    "# # //*[@id=\"gugun\"]\n",
    "\n",
    "# gu_list_raw = driver.find_element(By.XPATH, '//*[@id=\"gugun\"]')\n",
    "# gu_list = gu_list_raw.find_elements(By.TAG_NAME,\"option\")\n",
    "\n",
    "# gu_names = [option.get_attribute(\"value\") for option in gu_list]\n",
    "# gu_names.remove(\"\")\n",
    "# gu_names"
   ]
  },
  {
   "cell_type": "code",
   "execution_count": 35,
   "metadata": {},
   "outputs": [],
   "source": [
    "# 조회버튼 click\n",
    "# //*[@id=\"storeC01\"]/div/a/img\n",
    "\n",
    "xpath = '//*[@id=\"storeC01\"]/div/a/img'\n",
    "element_find_btn = driver.find_element(By.XPATH, xpath).click()"
   ]
  },
  {
   "cell_type": "code",
   "execution_count": null,
   "metadata": {},
   "outputs": [],
   "source": []
  },
  {
   "cell_type": "code",
   "execution_count": 36,
   "metadata": {},
   "outputs": [],
   "source": [
    "# //*[@id=\"5956\"]/p/text()[1]\n",
    "\n",
    "address_raw = driver.find_element(By.XPATH, '//*[@id=\"my-store-list\"]')\n",
    "address_raw2 = address_raw.find_elements(By.TAG_NAME, 'p')\n",
    "address = []\n",
    "\n",
    "names_raw = driver.find_element(By.XPATH, '//*[@id=\"my-store-list\"]')\n",
    "names_raw2 = names_raw.find_elements(By.TAG_NAME, \"a\")\n",
    "names = []\n",
    "# 0, 4, 8, \n",
    "# print(names_raw2[12].text)\n",
    "for i in address_raw2:\n",
    "  address.append(i.text.split(\"\\n\")[0])\n",
    "\n",
    "\n",
    "for i in range(len(names_raw2)//4):\n",
    "  names.append(names_raw2[i*4].text)\n",
    "\n",
    "df = pd.DataFrame(data=names, columns=[\"매장명\"])\n",
    "df[\"매장주소\"] = pd.Series(address)\n",
    "df.to_csv(f\"../Data/{sido_names[0]}.csv\" , encoding=\"utf-8\", index=False)"
   ]
  },
  {
   "cell_type": "code",
   "execution_count": 37,
   "metadata": {},
   "outputs": [
    {
     "name": "stdout",
     "output_type": "stream",
     "text": [
      "439 439\n"
     ]
    }
   ],
   "source": [
    "print(len(address),len(names))"
   ]
  },
  {
   "cell_type": "code",
   "execution_count": 38,
   "metadata": {},
   "outputs": [],
   "source": [
    "# 화면에 그림을 그리는 시간이 필요하므로 이를 delay 시키자!\n",
    "\n",
    "import time\n",
    "\n",
    "for sido in sido_names:\n",
    "  # 구 선택하기\n",
    "  element = driver.find_element(By.XPATH, '//*[@id=\"sido\"]')\n",
    "  element.send_keys(sido)\n",
    "\n",
    "  time.sleep(2)\n",
    "\n",
    "  # 조회버튼 click\n",
    "  # //*[@id=\"searRgSelect\"]/span\n",
    "  xpath = '//*[@id=\"storeC01\"]/div/a/img'\n",
    "  element_find_btn = driver.find_element(By.XPATH, xpath).click()\n",
    "\n",
    "  time.sleep(1)\n",
    "\n",
    "  # 값 저장하기\n",
    "\n",
    "  address_raw = driver.find_element(By.XPATH, '//*[@id=\"my-store-list\"]')\n",
    "  address_raw2 = address_raw.find_elements(By.TAG_NAME, 'p')\n",
    "  address = []\n",
    "\n",
    "  names_raw = driver.find_element(By.XPATH, '//*[@id=\"my-store-list\"]')\n",
    "  names_raw2 = names_raw.find_elements(By.TAG_NAME, \"a\")\n",
    "  names = []\n",
    "  # 0, 4, 8, \n",
    "  # print(names_raw2[12].text)\n",
    "  for i in address_raw2:\n",
    "    address.append(i.text.split(\"\\n\")[0])\n",
    "\n",
    "\n",
    "  for i in range(len(names_raw2)//4):\n",
    "    names.append(names_raw2[i*4].text)\n",
    "\n",
    "  df = pd.DataFrame(data=names, columns=[\"매장명\"])\n",
    "  df[\"매장주소\"] = pd.Series(address)\n",
    "  df.to_csv(f\"../Data/본죽/{sido}.csv\" , encoding=\"utf-8\", index=False)\n",
    "\n",
    "  time.sleep(1)"
   ]
  },
  {
   "cell_type": "code",
   "execution_count": 39,
   "metadata": {},
   "outputs": [
    {
     "data": {
      "text/html": [
       "<div>\n",
       "<style scoped>\n",
       "    .dataframe tbody tr th:only-of-type {\n",
       "        vertical-align: middle;\n",
       "    }\n",
       "\n",
       "    .dataframe tbody tr th {\n",
       "        vertical-align: top;\n",
       "    }\n",
       "\n",
       "    .dataframe thead th {\n",
       "        text-align: right;\n",
       "    }\n",
       "</style>\n",
       "<table border=\"1\" class=\"dataframe\">\n",
       "  <thead>\n",
       "    <tr style=\"text-align: right;\">\n",
       "      <th></th>\n",
       "      <th>매장명</th>\n",
       "      <th>매장주소</th>\n",
       "    </tr>\n",
       "  </thead>\n",
       "  <tbody>\n",
       "    <tr>\n",
       "      <th>0</th>\n",
       "      <td>본 죽&amp;비빔밥 전농뉴타운점</td>\n",
       "      <td>서울특별시 동대문구 답십리로 77 (전농동) 1층</td>\n",
       "    </tr>\n",
       "    <tr>\n",
       "      <th>1</th>\n",
       "      <td>본 죽&amp;비빔밥 가산디지털점</td>\n",
       "      <td>서울특별시 금천구 가산디지털1로 186 (가산동, 제이플라츠) 104-2호</td>\n",
       "    </tr>\n",
       "    <tr>\n",
       "      <th>2</th>\n",
       "      <td>본 죽&amp;비빔밥 회현역점</td>\n",
       "      <td>서울특별시 중구 퇴계로 72 (회현동1가, 리더스뷰남산) 115호</td>\n",
       "    </tr>\n",
       "    <tr>\n",
       "      <th>3</th>\n",
       "      <td>본 죽&amp;비빔밥 남성역점</td>\n",
       "      <td>서울특별시 동작구 사당로 215 (사당동, 서림빌딩) 103호</td>\n",
       "    </tr>\n",
       "    <tr>\n",
       "      <th>4</th>\n",
       "      <td>본설렁탕 구로디지털단지점</td>\n",
       "      <td>서울특별시 구로구 디지털로31길 53 (구로동, 이앤씨벤처드림타워5차) 104호</td>\n",
       "    </tr>\n",
       "    <tr>\n",
       "      <th>...</th>\n",
       "      <td>...</td>\n",
       "      <td>...</td>\n",
       "    </tr>\n",
       "    <tr>\n",
       "      <th>107</th>\n",
       "      <td>본죽 부산범내골역점</td>\n",
       "      <td>부산광역시 부산진구 범일로 185 (범천동)</td>\n",
       "    </tr>\n",
       "    <tr>\n",
       "      <th>108</th>\n",
       "      <td>본죽 부산서면시장점</td>\n",
       "      <td>부산광역시 부산진구 중앙대로 701-4 (부전동) 1층</td>\n",
       "    </tr>\n",
       "    <tr>\n",
       "      <th>109</th>\n",
       "      <td>본죽 부산광혜병원점</td>\n",
       "      <td>부산광역시 동래구 충렬대로108번길 6 (온천동) 1층</td>\n",
       "    </tr>\n",
       "    <tr>\n",
       "      <th>110</th>\n",
       "      <td>본죽 부산사직점</td>\n",
       "      <td>부산광역시 동래구 석사로 4 (사직동)</td>\n",
       "    </tr>\n",
       "    <tr>\n",
       "      <th>111</th>\n",
       "      <td>본죽 부산온천장점</td>\n",
       "      <td>부산광역시 동래구 중앙대로 1523 (온천동) SK허브스카이 1층 B1-08호</td>\n",
       "    </tr>\n",
       "  </tbody>\n",
       "</table>\n",
       "<p>551 rows × 2 columns</p>\n",
       "</div>"
      ],
      "text/plain": [
       "                매장명                                          매장주소\n",
       "0    본 죽&비빔밥 전농뉴타운점                   서울특별시 동대문구 답십리로 77 (전농동) 1층\n",
       "1    본 죽&비빔밥 가산디지털점     서울특별시 금천구 가산디지털1로 186 (가산동, 제이플라츠) 104-2호\n",
       "2      본 죽&비빔밥 회현역점          서울특별시 중구 퇴계로 72 (회현동1가, 리더스뷰남산) 115호\n",
       "3      본 죽&비빔밥 남성역점            서울특별시 동작구 사당로 215 (사당동, 서림빌딩) 103호\n",
       "4     본설렁탕 구로디지털단지점  서울특별시 구로구 디지털로31길 53 (구로동, 이앤씨벤처드림타워5차) 104호\n",
       "..              ...                                           ...\n",
       "107      본죽 부산범내골역점                      부산광역시 부산진구 범일로 185 (범천동)\n",
       "108      본죽 부산서면시장점                부산광역시 부산진구 중앙대로 701-4 (부전동) 1층\n",
       "109      본죽 부산광혜병원점                부산광역시 동래구 충렬대로108번길 6 (온천동) 1층\n",
       "110        본죽 부산사직점                         부산광역시 동래구 석사로 4 (사직동)\n",
       "111       본죽 부산온천장점   부산광역시 동래구 중앙대로 1523 (온천동) SK허브스카이 1층 B1-08호\n",
       "\n",
       "[551 rows x 2 columns]"
      ]
     },
     "execution_count": 39,
     "metadata": {},
     "output_type": "execute_result"
    }
   ],
   "source": [
    "df = pd.read_csv(f\"../Data/본죽/{sido_names[0]}.csv\")\n",
    "df2 = pd.read_csv(f\"../Data/본죽/{sido_names[1]}.csv\")\n",
    "df.append(df2)"
   ]
  },
  {
   "cell_type": "code",
   "execution_count": 40,
   "metadata": {},
   "outputs": [],
   "source": [
    "df = pd.read_csv(f\"../Data/본죽/{sido_names[0]}.csv\")"
   ]
  },
  {
   "cell_type": "code",
   "execution_count": 41,
   "metadata": {},
   "outputs": [],
   "source": [
    "\n",
    "for sido in sido_names[1:len(sido_names)]:\n",
    "  df2 = pd.read_csv(f\"../Data/본죽/{sido}.csv\")\n",
    "\n",
    "  df = df.append(df2)\n",
    "df.to_csv(f\"../Data/본죽/전국.csv\" , encoding=\"utf-8\", index=False)"
   ]
  },
  {
   "cell_type": "code",
   "execution_count": 42,
   "metadata": {},
   "outputs": [
    {
     "data": {
      "text/html": [
       "<div>\n",
       "<style scoped>\n",
       "    .dataframe tbody tr th:only-of-type {\n",
       "        vertical-align: middle;\n",
       "    }\n",
       "\n",
       "    .dataframe tbody tr th {\n",
       "        vertical-align: top;\n",
       "    }\n",
       "\n",
       "    .dataframe thead th {\n",
       "        text-align: right;\n",
       "    }\n",
       "</style>\n",
       "<table border=\"1\" class=\"dataframe\">\n",
       "  <thead>\n",
       "    <tr style=\"text-align: right;\">\n",
       "      <th></th>\n",
       "      <th>매장명</th>\n",
       "      <th>매장주소</th>\n",
       "    </tr>\n",
       "  </thead>\n",
       "  <tbody>\n",
       "    <tr>\n",
       "      <th>0</th>\n",
       "      <td>본 죽&amp;비빔밥 전농뉴타운점</td>\n",
       "      <td>서울특별시 동대문구 답십리로 77 (전농동) 1층</td>\n",
       "    </tr>\n",
       "    <tr>\n",
       "      <th>1</th>\n",
       "      <td>본 죽&amp;비빔밥 가산디지털점</td>\n",
       "      <td>서울특별시 금천구 가산디지털1로 186 (가산동, 제이플라츠) 104-2호</td>\n",
       "    </tr>\n",
       "    <tr>\n",
       "      <th>2</th>\n",
       "      <td>본 죽&amp;비빔밥 회현역점</td>\n",
       "      <td>서울특별시 중구 퇴계로 72 (회현동1가, 리더스뷰남산) 115호</td>\n",
       "    </tr>\n",
       "    <tr>\n",
       "      <th>3</th>\n",
       "      <td>본 죽&amp;비빔밥 남성역점</td>\n",
       "      <td>서울특별시 동작구 사당로 215 (사당동, 서림빌딩) 103호</td>\n",
       "    </tr>\n",
       "    <tr>\n",
       "      <th>4</th>\n",
       "      <td>본설렁탕 구로디지털단지점</td>\n",
       "      <td>서울특별시 구로구 디지털로31길 53 (구로동, 이앤씨벤처드림타워5차) 104호</td>\n",
       "    </tr>\n",
       "    <tr>\n",
       "      <th>...</th>\n",
       "      <td>...</td>\n",
       "      <td>...</td>\n",
       "    </tr>\n",
       "    <tr>\n",
       "      <th>16</th>\n",
       "      <td>본도시락 세종시청점</td>\n",
       "      <td>세종특별자치시 한누리대로 2135 (보람동, 스타힐타워Ⅰ) 스타힐타워1동 103호</td>\n",
       "    </tr>\n",
       "    <tr>\n",
       "      <th>17</th>\n",
       "      <td>본죽 세종소담점</td>\n",
       "      <td>세종특별자치시 시청대로 236 (소담동, 새샘마을3단지) B상가동 119호</td>\n",
       "    </tr>\n",
       "    <tr>\n",
       "      <th>18</th>\n",
       "      <td>본죽 세종고운점</td>\n",
       "      <td>세종특별자치시 마음로 264 (고운동, 고운프라자)</td>\n",
       "    </tr>\n",
       "    <tr>\n",
       "      <th>19</th>\n",
       "      <td>본죽 세종부강점</td>\n",
       "      <td>세종특별자치시 부강면 부강로 26-5</td>\n",
       "    </tr>\n",
       "    <tr>\n",
       "      <th>20</th>\n",
       "      <td>본죽 조치원점</td>\n",
       "      <td>세종특별자치시 조치원읍 조치원7길 7</td>\n",
       "    </tr>\n",
       "  </tbody>\n",
       "</table>\n",
       "<p>2027 rows × 2 columns</p>\n",
       "</div>"
      ],
      "text/plain": [
       "               매장명                                           매장주소\n",
       "0   본 죽&비빔밥 전농뉴타운점                    서울특별시 동대문구 답십리로 77 (전농동) 1층\n",
       "1   본 죽&비빔밥 가산디지털점      서울특별시 금천구 가산디지털1로 186 (가산동, 제이플라츠) 104-2호\n",
       "2     본 죽&비빔밥 회현역점           서울특별시 중구 퇴계로 72 (회현동1가, 리더스뷰남산) 115호\n",
       "3     본 죽&비빔밥 남성역점             서울특별시 동작구 사당로 215 (사당동, 서림빌딩) 103호\n",
       "4    본설렁탕 구로디지털단지점   서울특별시 구로구 디지털로31길 53 (구로동, 이앤씨벤처드림타워5차) 104호\n",
       "..             ...                                            ...\n",
       "16      본도시락 세종시청점  세종특별자치시 한누리대로 2135 (보람동, 스타힐타워Ⅰ) 스타힐타워1동 103호\n",
       "17        본죽 세종소담점      세종특별자치시 시청대로 236 (소담동, 새샘마을3단지) B상가동 119호\n",
       "18        본죽 세종고운점                   세종특별자치시 마음로 264 (고운동, 고운프라자)\n",
       "19        본죽 세종부강점                           세종특별자치시 부강면 부강로 26-5\n",
       "20         본죽 조치원점                           세종특별자치시 조치원읍 조치원7길 7\n",
       "\n",
       "[2027 rows x 2 columns]"
      ]
     },
     "execution_count": 42,
     "metadata": {},
     "output_type": "execute_result"
    }
   ],
   "source": [
    "df"
   ]
  },
  {
   "cell_type": "code",
   "execution_count": null,
   "metadata": {},
   "outputs": [],
   "source": []
  },
  {
   "cell_type": "code",
   "execution_count": null,
   "metadata": {},
   "outputs": [],
   "source": []
  },
  {
   "cell_type": "code",
   "execution_count": null,
   "metadata": {},
   "outputs": [],
   "source": []
  }
 ],
 "metadata": {
  "kernelspec": {
   "display_name": "Python 3.9.7 ('base')",
   "language": "python",
   "name": "python3"
  },
  "language_info": {
   "codemirror_mode": {
    "name": "ipython",
    "version": 3
   },
   "file_extension": ".py",
   "mimetype": "text/x-python",
   "name": "python",
   "nbconvert_exporter": "python",
   "pygments_lexer": "ipython3",
   "version": "3.9.7"
  },
  "orig_nbformat": 4,
  "vscode": {
   "interpreter": {
    "hash": "c34e8390e776d2ee205b71ed5a6130fee3cef8da5e87e926ce18e14f4a070d72"
   }
  }
 },
 "nbformat": 4,
 "nbformat_minor": 2
}

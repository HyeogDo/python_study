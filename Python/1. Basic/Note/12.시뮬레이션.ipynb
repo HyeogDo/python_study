{
 "cells": [
  {
   "cell_type": "markdown",
   "metadata": {},
   "source": [
    "# 몬테카를로 시뮬레이션\n",
    ": 자료가 없을 경우 난수를 통해서 가설 증명"
   ]
  },
  {
   "cell_type": "code",
   "execution_count": null,
   "metadata": {},
   "outputs": [],
   "source": [
    "# 동전의 앞면과 뒷면이 나올 확률이 같다는 것을 증명"
   ]
  },
  {
   "cell_type": "code",
   "execution_count": 1,
   "metadata": {},
   "outputs": [],
   "source": [
    "import random"
   ]
  },
  {
   "cell_type": "code",
   "execution_count": null,
   "metadata": {},
   "outputs": [],
   "source": [
    "random.randint(1, 10)"
   ]
  },
  {
   "cell_type": "code",
   "execution_count": 2,
   "metadata": {},
   "outputs": [],
   "source": [
    "def coinF(n):\n",
    "  coinFront = coinRear = 0  \n",
    "  for i in range(1, n+1):\n",
    "    x = random.randint(1,2)\n",
    "    if x == 1:\n",
    "      coinFront += 1\n",
    "    else:\n",
    "      coinRear += 1\n",
    "  print(\"%7d번 시도시 동전의 앞면은 %6d번이고 동전의 뒷면은 %6d번 입니다.\"%(n, coinFront, coinRear))\n",
    "  "
   ]
  },
  {
   "cell_type": "code",
   "execution_count": 3,
   "metadata": {},
   "outputs": [
    {
     "name": "stdout",
     "output_type": "stream",
     "text": [
      "     10번 시도시 동전의 앞면은      4번이고 동전의 뒷면은      6번 입니다.\n",
      "    100번 시도시 동전의 앞면은     53번이고 동전의 뒷면은     47번 입니다.\n",
      "   1000번 시도시 동전의 앞면은    480번이고 동전의 뒷면은    520번 입니다.\n",
      "  10000번 시도시 동전의 앞면은   4996번이고 동전의 뒷면은   5004번 입니다.\n",
      " 100000번 시도시 동전의 앞면은  49713번이고 동전의 뒷면은  50287번 입니다.\n",
      "1000000번 시도시 동전의 앞면은 499837번이고 동전의 뒷면은 500163번 입니다.\n"
     ]
    }
   ],
   "source": [
    "coinF(10)\n",
    "coinF(100)\n",
    "coinF(1000)\n",
    "coinF(10000)\n",
    "coinF(100000)\n",
    "coinF(1000000)"
   ]
  },
  {
   "cell_type": "code",
   "execution_count": 9,
   "metadata": {},
   "outputs": [],
   "source": [
    "def RSPF(n):\n",
    "  # rock = scissor = paper = 0  \n",
    "  rsp = [0,0,0]\n",
    "  for i in range(1, n+1):\n",
    "    x = random.randint(1,3)\n",
    "    rsp[x-1] = rsp[x-1] + 1\n",
    "    # if x == 1:\n",
    "    #   rock += 1\n",
    "    # elif x == 2:\n",
    "    #   scissor += 1\n",
    "    # else:\n",
    "    #   paper += 1\n",
    "  # print(\"%7d번 시도시 가위는 %6d번이고 바위는 %6d번이고 보는 %6d번 입니다.\"%(n, scissor, rock, paper))\n",
    "  print(\"%7d번 시도시 가위는 %6d번이고 바위는 %6d번이고 보는 %6d번 입니다.\"%(n, rsp[1], rsp[0], rsp[2]))\n",
    "  "
   ]
  },
  {
   "cell_type": "code",
   "execution_count": 10,
   "metadata": {},
   "outputs": [
    {
     "name": "stdout",
     "output_type": "stream",
     "text": [
      "     10번 시도시 가위는      1번이고 바위는      2번이고 보는      7번 입니다.\n",
      "    100번 시도시 가위는     37번이고 바위는     33번이고 보는     30번 입니다.\n",
      "   1000번 시도시 가위는    353번이고 바위는    326번이고 보는    321번 입니다.\n",
      "  10000번 시도시 가위는   3421번이고 바위는   3256번이고 보는   3323번 입니다.\n",
      " 100000번 시도시 가위는  33285번이고 바위는  33203번이고 보는  33512번 입니다.\n",
      "1000000번 시도시 가위는 333469번이고 바위는 332838번이고 보는 333693번 입니다.\n"
     ]
    }
   ],
   "source": [
    "RSPF(10)\n",
    "RSPF(100)\n",
    "RSPF(1000)\n",
    "RSPF(10000)\n",
    "RSPF(100000)\n",
    "RSPF(1000000)"
   ]
  },
  {
   "cell_type": "code",
   "execution_count": null,
   "metadata": {},
   "outputs": [],
   "source": []
  },
  {
   "cell_type": "code",
   "execution_count": null,
   "metadata": {},
   "outputs": [],
   "source": []
  },
  {
   "cell_type": "code",
   "execution_count": null,
   "metadata": {},
   "outputs": [],
   "source": []
  },
  {
   "cell_type": "code",
   "execution_count": null,
   "metadata": {},
   "outputs": [],
   "source": []
  }
 ],
 "metadata": {
  "kernelspec": {
   "display_name": "Python 3.9.7 ('base')",
   "language": "python",
   "name": "python3"
  },
  "language_info": {
   "codemirror_mode": {
    "name": "ipython",
    "version": 3
   },
   "file_extension": ".py",
   "mimetype": "text/x-python",
   "name": "python",
   "nbconvert_exporter": "python",
   "pygments_lexer": "ipython3",
   "version": "3.9.7"
  },
  "orig_nbformat": 4,
  "vscode": {
   "interpreter": {
    "hash": "c34e8390e776d2ee205b71ed5a6130fee3cef8da5e87e926ce18e14f4a070d72"
   }
  }
 },
 "nbformat": 4,
 "nbformat_minor": 2
}

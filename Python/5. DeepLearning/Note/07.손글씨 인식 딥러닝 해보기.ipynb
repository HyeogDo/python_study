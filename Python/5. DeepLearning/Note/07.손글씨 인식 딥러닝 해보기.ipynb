{
 "cells": [
  {
   "cell_type": "markdown",
   "metadata": {},
   "source": [
    "# Keras를 이용한 손글씨 인식 딥러닝\n",
    "- Tensorflow로 작성된 프로그램은 sklearn Library를 사용할 때 보다 어렵다\n",
    "- Keras는 머신러닝 라이브러리 테아노(Theano)와 Tensorflow를 Wrapping한 라이브러리"
   ]
  },
  {
   "cell_type": "code",
   "execution_count": 1,
   "metadata": {},
   "outputs": [
    {
     "name": "stdout",
     "output_type": "stream",
     "text": [
      "   0    1    2    3    4    5    6    7    8    9    ...  775  776  777  778  \\\n",
      "0    5    0    0    0    0    0    0    0    0    0  ...    0    0    0    0   \n",
      "1    0    0    0    0    0    0    0    0    0    0  ...    0    0    0    0   \n",
      "2    4    0    0    0    0    0    0    0    0    0  ...    0    0    0    0   \n",
      "3    1    0    0    0    0    0    0    0    0    0  ...    0    0    0    0   \n",
      "4    9    0    0    0    0    0    0    0    0    0  ...    0    0    0    0   \n",
      "\n",
      "   779  780  781  782  783  784  \n",
      "0    0    0    0    0    0    0  \n",
      "1    0    0    0    0    0    0  \n",
      "2    0    0    0    0    0    0  \n",
      "3    0    0    0    0    0    0  \n",
      "4    0    0    0    0    0    0  \n",
      "\n",
      "[5 rows x 785 columns]\n",
      "   0    1    2    3    4    5    6    7    8    9    ...  775  776  777  778  \\\n",
      "0    7    0    0    0    0    0    0    0    0    0  ...    0    0    0    0   \n",
      "1    2    0    0    0    0    0    0    0    0    0  ...    0    0    0    0   \n",
      "2    1    0    0    0    0    0    0    0    0    0  ...    0    0    0    0   \n",
      "3    0    0    0    0    0    0    0    0    0    0  ...    0    0    0    0   \n",
      "4    4    0    0    0    0    0    0    0    0    0  ...    0    0    0    0   \n",
      "\n",
      "   779  780  781  782  783  784  \n",
      "0    0    0    0    0    0    0  \n",
      "1    0    0    0    0    0    0  \n",
      "2    0    0    0    0    0    0  \n",
      "3    0    0    0    0    0    0  \n",
      "4    0    0    0    0    0    0  \n",
      "\n",
      "[5 rows x 785 columns]\n",
      "0      20001\n",
      "1      20001\n",
      "2      20001\n",
      "3      20001\n",
      "4      20001\n",
      "       ...  \n",
      "780    20001\n",
      "781    20001\n",
      "782    20001\n",
      "783    20001\n",
      "784    20001\n",
      "Length: 785, dtype: int64\n"
     ]
    }
   ],
   "source": [
    "import pandas as pd\n",
    "train = pd.read_csv(\"../Data/train_20k.csv\", header=None)\n",
    "test = pd.read_csv(\"../Data/test_1k.csv\", header=None)\n",
    "print(train.head())\n",
    "print(test.head())\n",
    "print(train.count())"
   ]
  },
  {
   "cell_type": "markdown",
   "metadata": {},
   "source": [
    "---\n",
    "### Preprocessing(전처리)"
   ]
  },
  {
   "cell_type": "code",
   "execution_count": 3,
   "metadata": {},
   "outputs": [
    {
     "data": {
      "text/plain": [
       "0"
      ]
     },
     "execution_count": 3,
     "metadata": {},
     "output_type": "execute_result"
    }
   ],
   "source": [
    "# null\n",
    "train.isnull().sum().sum()"
   ]
  },
  {
   "cell_type": "code",
   "execution_count": 4,
   "metadata": {},
   "outputs": [
    {
     "data": {
      "text/plain": [
       "0"
      ]
     },
     "execution_count": 4,
     "metadata": {},
     "output_type": "execute_result"
    }
   ],
   "source": [
    "test.isnull().sum().sum()"
   ]
  },
  {
   "cell_type": "code",
   "execution_count": 7,
   "metadata": {},
   "outputs": [],
   "source": [
    "# train과 test를 Feature와 Target으로 분리하고 정규화하자\n",
    "train_label = train[0]\n",
    "train_data = train.drop(0, axis=1) / 255.0\n",
    "\n",
    "test_label = test[0]\n",
    "test_data = test.drop(0, axis=1) / 255.0"
   ]
  },
  {
   "cell_type": "markdown",
   "metadata": {},
   "source": [
    "### Deep Learning Model 만들기"
   ]
  },
  {
   "cell_type": "code",
   "execution_count": 11,
   "metadata": {},
   "outputs": [],
   "source": [
    "# GPU 사용 설정\n",
    "\n",
    "import os\n",
    "os.environ[\"TF_CPP_MIN_LOG_LEVEL\"] = \"3\""
   ]
  },
  {
   "cell_type": "code",
   "execution_count": 12,
   "metadata": {},
   "outputs": [],
   "source": [
    "from tensorflow import keras"
   ]
  },
  {
   "cell_type": "code",
   "execution_count": 33,
   "metadata": {},
   "outputs": [],
   "source": [
    "model = keras.Sequential()\n",
    "\n",
    "model.add(keras.layers.Dense(256, activation=\"tanh\", input_shape=(784,)))\n",
    "model.add(keras.layers.Dense(10, activation=\"softmax\"))\n",
    "\n",
    "model.compile(optimizer=\"adam\", loss=\"sparse_categorical_crossentropy\", metrics=[\"accuracy\"])"
   ]
  },
  {
   "cell_type": "code",
   "execution_count": 34,
   "metadata": {},
   "outputs": [],
   "source": [
    "import numpy as np"
   ]
  },
  {
   "cell_type": "code",
   "execution_count": 35,
   "metadata": {},
   "outputs": [
    {
     "name": "stdout",
     "output_type": "stream",
     "text": [
      "Epoch 1/50\n",
      "626/626 [==============================] - 2s 2ms/step - loss: 0.3806 - accuracy: 0.8906\n",
      "Epoch 2/50\n",
      "626/626 [==============================] - 2s 3ms/step - loss: 0.2095 - accuracy: 0.9391\n",
      "Epoch 3/50\n",
      "626/626 [==============================] - 2s 2ms/step - loss: 0.1461 - accuracy: 0.9578\n",
      "Epoch 4/50\n",
      "626/626 [==============================] - 2s 3ms/step - loss: 0.1080 - accuracy: 0.9681\n",
      "Epoch 5/50\n",
      "626/626 [==============================] - 2s 2ms/step - loss: 0.0803 - accuracy: 0.9763\n",
      "Epoch 6/50\n",
      "626/626 [==============================] - 2s 2ms/step - loss: 0.0607 - accuracy: 0.9824\n",
      "Epoch 7/50\n",
      "626/626 [==============================] - 2s 2ms/step - loss: 0.0439 - accuracy: 0.9887\n",
      "Epoch 8/50\n",
      "626/626 [==============================] - 2s 2ms/step - loss: 0.0315 - accuracy: 0.9928\n",
      "Epoch 9/50\n",
      "626/626 [==============================] - 2s 2ms/step - loss: 0.0234 - accuracy: 0.9949\n",
      "Epoch 10/50\n",
      "626/626 [==============================] - 1s 2ms/step - loss: 0.0174 - accuracy: 0.9969\n",
      "Epoch 11/50\n",
      "626/626 [==============================] - 2s 3ms/step - loss: 0.0119 - accuracy: 0.9980\n",
      "Epoch 12/50\n",
      "626/626 [==============================] - 2s 2ms/step - loss: 0.0079 - accuracy: 0.9993\n",
      "Epoch 13/50\n",
      "626/626 [==============================] - 2s 3ms/step - loss: 0.0056 - accuracy: 0.9996\n",
      "Epoch 14/50\n",
      "626/626 [==============================] - 2s 3ms/step - loss: 0.0111 - accuracy: 0.9975\n",
      "Epoch 15/50\n",
      "626/626 [==============================] - 2s 2ms/step - loss: 0.0050 - accuracy: 0.9996\n",
      "Epoch 16/50\n",
      "626/626 [==============================] - 1s 2ms/step - loss: 0.0028 - accuracy: 0.9998\n",
      "Epoch 17/50\n",
      "626/626 [==============================] - 1s 2ms/step - loss: 0.0013 - accuracy: 0.9999\n",
      "Epoch 18/50\n",
      "626/626 [==============================] - 2s 3ms/step - loss: 8.5485e-04 - accuracy: 1.0000\n",
      "Epoch 19/50\n",
      "626/626 [==============================] - 2s 2ms/step - loss: 8.3161e-04 - accuracy: 1.0000\n",
      "Epoch 20/50\n",
      "626/626 [==============================] - 2s 2ms/step - loss: 8.7647e-04 - accuracy: 0.9999\n",
      "Epoch 21/50\n",
      "626/626 [==============================] - 1s 2ms/step - loss: 0.0207 - accuracy: 0.9936\n",
      "Epoch 22/50\n",
      "626/626 [==============================] - 2s 2ms/step - loss: 0.0013 - accuracy: 1.0000\n",
      "Epoch 23/50\n",
      "626/626 [==============================] - 1s 2ms/step - loss: 5.4125e-04 - accuracy: 1.0000\n",
      "Epoch 24/50\n",
      "626/626 [==============================] - 1s 2ms/step - loss: 4.0901e-04 - accuracy: 1.0000\n",
      "Epoch 25/50\n",
      "626/626 [==============================] - 1s 2ms/step - loss: 3.3801e-04 - accuracy: 1.0000\n",
      "Epoch 26/50\n",
      "626/626 [==============================] - 2s 2ms/step - loss: 2.8459e-04 - accuracy: 1.0000\n",
      "Epoch 27/50\n",
      "626/626 [==============================] - 1s 2ms/step - loss: 2.3709e-04 - accuracy: 1.0000\n",
      "Epoch 28/50\n",
      "626/626 [==============================] - 1s 2ms/step - loss: 1.9741e-04 - accuracy: 1.0000\n",
      "Epoch 29/50\n",
      "626/626 [==============================] - 1s 2ms/step - loss: 1.6244e-04 - accuracy: 1.0000\n",
      "Epoch 30/50\n",
      "626/626 [==============================] - 2s 2ms/step - loss: 1.3457e-04 - accuracy: 1.0000\n",
      "Epoch 31/50\n",
      "626/626 [==============================] - 1s 2ms/step - loss: 1.0788e-04 - accuracy: 1.0000\n",
      "Epoch 32/50\n",
      "626/626 [==============================] - 1s 2ms/step - loss: 8.8404e-05 - accuracy: 1.0000\n",
      "Epoch 33/50\n",
      "626/626 [==============================] - 1s 2ms/step - loss: 0.0145 - accuracy: 0.9952\n",
      "Epoch 34/50\n",
      "626/626 [==============================] - 1s 2ms/step - loss: 0.0014 - accuracy: 0.9998\n",
      "Epoch 35/50\n",
      "626/626 [==============================] - 1s 2ms/step - loss: 4.7715e-04 - accuracy: 1.0000\n",
      "Epoch 36/50\n",
      "626/626 [==============================] - 2s 2ms/step - loss: 1.7658e-04 - accuracy: 1.0000\n",
      "Epoch 37/50\n",
      "626/626 [==============================] - 2s 3ms/step - loss: 1.3688e-04 - accuracy: 1.0000\n",
      "Epoch 38/50\n",
      "626/626 [==============================] - 2s 2ms/step - loss: 1.1277e-04 - accuracy: 1.0000\n",
      "Epoch 39/50\n",
      "626/626 [==============================] - 2s 3ms/step - loss: 9.3857e-05 - accuracy: 1.0000\n",
      "Epoch 40/50\n",
      "626/626 [==============================] - 2s 3ms/step - loss: 7.8924e-05 - accuracy: 1.0000\n",
      "Epoch 41/50\n",
      "626/626 [==============================] - 2s 3ms/step - loss: 6.6877e-05 - accuracy: 1.0000\n",
      "Epoch 42/50\n",
      "626/626 [==============================] - 2s 3ms/step - loss: 5.5848e-05 - accuracy: 1.0000\n",
      "Epoch 43/50\n",
      "626/626 [==============================] - 2s 2ms/step - loss: 4.7395e-05 - accuracy: 1.0000\n",
      "Epoch 44/50\n",
      "626/626 [==============================] - 2s 3ms/step - loss: 3.8871e-05 - accuracy: 1.0000\n",
      "Epoch 45/50\n",
      "626/626 [==============================] - 1s 2ms/step - loss: 3.2147e-05 - accuracy: 1.0000\n",
      "Epoch 46/50\n",
      "626/626 [==============================] - 2s 2ms/step - loss: 2.5980e-05 - accuracy: 1.0000\n",
      "Epoch 47/50\n",
      "626/626 [==============================] - 1s 2ms/step - loss: 2.1398e-05 - accuracy: 1.0000\n",
      "Epoch 48/50\n",
      "626/626 [==============================] - 1s 2ms/step - loss: 1.7030e-05 - accuracy: 1.0000\n",
      "Epoch 49/50\n",
      "626/626 [==============================] - 2s 3ms/step - loss: 1.3431e-05 - accuracy: 1.0000\n",
      "Epoch 50/50\n",
      "626/626 [==============================] - 2s 2ms/step - loss: 1.0850e-05 - accuracy: 1.0000\n"
     ]
    },
    {
     "data": {
      "text/plain": [
       "<keras.callbacks.History at 0x7fc882a3f220>"
      ]
     },
     "execution_count": 35,
     "metadata": {},
     "output_type": "execute_result"
    }
   ],
   "source": [
    "model.fit(train_data, train_label ,epochs=50)"
   ]
  },
  {
   "cell_type": "markdown",
   "metadata": {},
   "source": [
    "---\n",
    "### 테스트 데이터로 평가하기"
   ]
  },
  {
   "cell_type": "code",
   "execution_count": 37,
   "metadata": {},
   "outputs": [
    {
     "name": "stdout",
     "output_type": "stream",
     "text": [
      "32/32 [==============================] - 0s 2ms/step - loss: 0.1125 - accuracy: 0.9740\n",
      "loss : 0.11254296451807022\n",
      "accuracy : 0.9740259647369385\n"
     ]
    }
   ],
   "source": [
    "score = model.evaluate(test_data, np.array(test_label))\n",
    "print(\"loss :\", score[0])\n",
    "print(\"accuracy :\", score[1])"
   ]
  },
  {
   "cell_type": "markdown",
   "metadata": {},
   "source": [
    "---\n",
    "### test_data로 predict 해보기"
   ]
  },
  {
   "cell_type": "code",
   "execution_count": 45,
   "metadata": {},
   "outputs": [
    {
     "name": "stdout",
     "output_type": "stream",
     "text": [
      "32/32 [==============================] - 0s 2ms/step\n",
      "test label : 0    7\n",
      "1    2\n",
      "2    1\n",
      "3    0\n",
      "4    4\n",
      "5    1\n",
      "6    4\n",
      "7    9\n",
      "8    5\n",
      "9    9\n",
      "Name: 0, dtype: int64\n",
      "pred : [7 2 1 0 4 1 4 9 6 9]\n"
     ]
    }
   ],
   "source": [
    "pred = model.predict(test_data)\n",
    "print(\"test label :\", test_label[:10])\n",
    "print(\"pred :\", np.argmax(pred[:10], axis=1))"
   ]
  },
  {
   "cell_type": "code",
   "execution_count": 46,
   "metadata": {},
   "outputs": [
    {
     "data": {
      "text/plain": [
       "1"
      ]
     },
     "execution_count": 46,
     "metadata": {},
     "output_type": "execute_result"
    }
   ],
   "source": [
    "# max값이 있는 index 출력\n",
    "np.argmax(np.array([1,4,3,2]))\n"
   ]
  },
  {
   "cell_type": "markdown",
   "metadata": {},
   "source": [
    "---\n",
    "# 번외 : Image 만들기"
   ]
  },
  {
   "cell_type": "code",
   "execution_count": 47,
   "metadata": {},
   "outputs": [],
   "source": [
    "from PIL import Image"
   ]
  },
  {
   "cell_type": "code",
   "execution_count": 48,
   "metadata": {},
   "outputs": [
    {
     "data": {
      "text/plain": [
       "(20001, 784)"
      ]
     },
     "execution_count": 48,
     "metadata": {},
     "output_type": "execute_result"
    }
   ],
   "source": [
    "# 0번의 정답을 제외한 데이터 만들기\n",
    "train1 = train.loc[:, train.columns != 0]\n",
    "train1.shape"
   ]
  },
  {
   "cell_type": "code",
   "execution_count": 49,
   "metadata": {},
   "outputs": [
    {
     "data": {
      "text/plain": [
       "(28, 28)"
      ]
     },
     "execution_count": 49,
     "metadata": {},
     "output_type": "execute_result"
    }
   ],
   "source": [
    "# train_data의 50번의 크기 조절하기\n",
    "abc = np.array(train1.iloc[50]).reshape(28,28)\n",
    "abc.shape"
   ]
  },
  {
   "cell_type": "code",
   "execution_count": 50,
   "metadata": {},
   "outputs": [
    {
     "data": {
      "image/png": "[encoded data removed]",
      "text/plain": [
       "<PIL.Image.Image image mode=L size=28x28 at 0x7FC87393DC10>"
      ]
     },
     "execution_count": 50,
     "metadata": {},
     "output_type": "execute_result"
    }
   ],
   "source": [
    "# Image 만들기\n",
    "image = Image.fromarray((abc).astype(np.uint8))\n",
    "image"
   ]
  },
  {
   "cell_type": "code",
   "execution_count": 51,
   "metadata": {},
   "outputs": [],
   "source": [
    "# image 저장하기\n",
    "image.save(\"../Data/mnist_test3.jpg\", \"JPEG\")"
   ]
  },
  {
   "cell_type": "markdown",
   "metadata": {},
   "source": [
    "---\n",
    "# 이미지를 불러서 Prdict 해보기"
   ]
  },
  {
   "cell_type": "code",
   "execution_count": 52,
   "metadata": {},
   "outputs": [
    {
     "data": {
      "image/png": "[encoded data removed]",
      "text/plain": [
       "<PIL.JpegImagePlugin.JpegImageFile image mode=L size=28x28 at 0x7FC87393D700>"
      ]
     },
     "execution_count": 52,
     "metadata": {},
     "output_type": "execute_result"
    }
   ],
   "source": [
    "# Image 불러오기\n",
    "img = Image.open(\"../Data/mnist_test3.jpg\")\n",
    "img"
   ]
  },
  {
   "cell_type": "code",
   "execution_count": 53,
   "metadata": {},
   "outputs": [],
   "source": [
    "import matplotlib.pyplot as plt\n"
   ]
  },
  {
   "cell_type": "code",
   "execution_count": 54,
   "metadata": {},
   "outputs": [
    {
     "data": {
      "image/png": "[encoded data removed]",
      "text/plain": [
       "<Figure size 432x288 with 1 Axes>"
      ]
     },
     "metadata": {
      "needs_background": "light"
     },
     "output_type": "display_data"
    }
   ],
   "source": [
    "import matplotlib.pyplot as plt\n",
    "plt.imshow(img)\n",
    "plt.show()"
   ]
  },
  {
   "cell_type": "code",
   "execution_count": 55,
   "metadata": {},
   "outputs": [
    {
     "data": {
      "text/plain": [
       "(28, 28)"
      ]
     },
     "execution_count": 55,
     "metadata": {},
     "output_type": "execute_result"
    }
   ],
   "source": [
    "\n",
    "# image를 numy 배열로 변환\n",
    "imgArray = np.array(img)\n",
    "imgArray = imgArray / 255.0\n",
    "imgArray.shape"
   ]
  },
  {
   "cell_type": "code",
   "execution_count": 56,
   "metadata": {},
   "outputs": [],
   "source": [
    "# image를 1차원ㅂ ㅐ열로 변환\n",
    "imgArray2 = imgArray.reshape(-1)"
   ]
  },
  {
   "cell_type": "code",
   "execution_count": 57,
   "metadata": {},
   "outputs": [
    {
     "data": {
      "text/plain": [
       "(784,)"
      ]
     },
     "execution_count": 57,
     "metadata": {},
     "output_type": "execute_result"
    }
   ],
   "source": [
    "imgArray2.shape"
   ]
  },
  {
   "cell_type": "code",
   "execution_count": 58,
   "metadata": {},
   "outputs": [],
   "source": [
    "imgArray3 = imgArray2.tolist()"
   ]
  },
  {
   "cell_type": "code",
   "execution_count": 60,
   "metadata": {},
   "outputs": [
    {
     "data": {
      "text/html": [
       "<div>\n",
       "<style scoped>\n",
       "    .dataframe tbody tr th:only-of-type {\n",
       "        vertical-align: middle;\n",
       "    }\n",
       "\n",
       "    .dataframe tbody tr th {\n",
       "        vertical-align: top;\n",
       "    }\n",
       "\n",
       "    .dataframe thead th {\n",
       "        text-align: right;\n",
       "    }\n",
       "</style>\n",
       "<table border=\"1\" class=\"dataframe\">\n",
       "  <thead>\n",
       "    <tr style=\"text-align: right;\">\n",
       "      <th></th>\n",
       "      <th>0</th>\n",
       "      <th>1</th>\n",
       "      <th>2</th>\n",
       "      <th>3</th>\n",
       "      <th>4</th>\n",
       "      <th>5</th>\n",
       "      <th>6</th>\n",
       "      <th>7</th>\n",
       "      <th>8</th>\n",
       "      <th>9</th>\n",
       "      <th>...</th>\n",
       "      <th>774</th>\n",
       "      <th>775</th>\n",
       "      <th>776</th>\n",
       "      <th>777</th>\n",
       "      <th>778</th>\n",
       "      <th>779</th>\n",
       "      <th>780</th>\n",
       "      <th>781</th>\n",
       "      <th>782</th>\n",
       "      <th>783</th>\n",
       "    </tr>\n",
       "  </thead>\n",
       "  <tbody>\n",
       "    <tr>\n",
       "      <th>0</th>\n",
       "      <td>0.0</td>\n",
       "      <td>0.0</td>\n",
       "      <td>0.0</td>\n",
       "      <td>0.0</td>\n",
       "      <td>0.0</td>\n",
       "      <td>0.0</td>\n",
       "      <td>0.0</td>\n",
       "      <td>0.0</td>\n",
       "      <td>0.011765</td>\n",
       "      <td>0.0</td>\n",
       "      <td>...</td>\n",
       "      <td>0.0</td>\n",
       "      <td>0.0</td>\n",
       "      <td>0.0</td>\n",
       "      <td>0.0</td>\n",
       "      <td>0.0</td>\n",
       "      <td>0.0</td>\n",
       "      <td>0.0</td>\n",
       "      <td>0.0</td>\n",
       "      <td>0.0</td>\n",
       "      <td>0.0</td>\n",
       "    </tr>\n",
       "  </tbody>\n",
       "</table>\n",
       "<p>1 rows × 784 columns</p>\n",
       "</div>"
      ],
      "text/plain": [
       "   0    1    2    3    4    5    6    7         8    9    ...  774  775  776  \\\n",
       "0  0.0  0.0  0.0  0.0  0.0  0.0  0.0  0.0  0.011765  0.0  ...  0.0  0.0  0.0   \n",
       "\n",
       "   777  778  779  780  781  782  783  \n",
       "0  0.0  0.0  0.0  0.0  0.0  0.0  0.0  \n",
       "\n",
       "[1 rows x 784 columns]"
      ]
     },
     "execution_count": 60,
     "metadata": {},
     "output_type": "execute_result"
    }
   ],
   "source": [
    "dfArray = pd.DataFrame(imgArray3)\n",
    "dfArray = dfArray.T\n",
    "dfArray"
   ]
  },
  {
   "cell_type": "code",
   "execution_count": 61,
   "metadata": {},
   "outputs": [
    {
     "name": "stdout",
     "output_type": "stream",
     "text": [
      "1/1 [==============================] - 0s 25ms/step\n",
      "예측값 [3]\n"
     ]
    }
   ],
   "source": [
    "print(\"예측값\", np.argmax(model.predict(dfArray), axis=1))"
   ]
  },
  {
   "cell_type": "code",
   "execution_count": null,
   "metadata": {},
   "outputs": [],
   "source": []
  }
 ],
 "metadata": {
  "kernelspec": {
   "display_name": "Python 3.9.7 ('base')",
   "language": "python",
   "name": "python3"
  },
  "language_info": {
   "codemirror_mode": {
    "name": "ipython",
    "version": 3
   },
   "file_extension": ".py",
   "mimetype": "text/x-python",
   "name": "python",
   "nbconvert_exporter": "python",
   "pygments_lexer": "ipython3",
   "version": "3.9.7"
  },
  "orig_nbformat": 4,
  "vscode": {
   "interpreter": {
    "hash": "c34e8390e776d2ee205b71ed5a6130fee3cef8da5e87e926ce18e14f4a070d72"
   }
  }
 },
 "nbformat": 4,
 "nbformat_minor": 2
}

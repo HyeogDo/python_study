{
 "cells": [
  {
   "cell_type": "code",
   "execution_count": 1,
   "metadata": {},
   "outputs": [],
   "source": [
    "import warnings\n",
    "warnings.filterwarnings(\"ignore\")\n",
    "\n",
    "import os\n",
    "os.environ[\"TF_CPP_MIN_LOG_LEVEL\"] = \"3\""
   ]
  },
  {
   "cell_type": "code",
   "execution_count": 3,
   "metadata": {},
   "outputs": [],
   "source": [
    "from tensorflow import keras\n",
    "from sklearn.model_selection import train_test_split\n",
    "\n",
    "(train_input, train_target), (test_input, test_target) = keras.datasets.fashion_mnist.load_data()\n",
    "\n",
    "train_scaled = train_input / 225.0\n",
    "train_scaled, val_scaled, train_target, val_targe = \\\n",
    "  train_test_split(train_scaled, train_target, test_size=0.2, random_state=42)"
   ]
  },
  {
   "cell_type": "code",
   "execution_count": 4,
   "metadata": {},
   "outputs": [],
   "source": [
    "# Model 함수 구현\n",
    "def model_fn(a_layer=None):\n",
    "  model = keras.Sequential()\n",
    "  model.add(keras.layers.Flatten(input_shape=(28,28)))\n",
    "  model.add(keras.layers.Dense(100, activation=\"relu\"))\n",
    "  if a_layer:\n",
    "    model.add(a_layer)\n",
    "  model.add(keras.layers.Dense(10, activation=\"softmax\"))\n",
    "  return model"
   ]
  },
  {
   "cell_type": "code",
   "execution_count": 5,
   "metadata": {},
   "outputs": [
    {
     "name": "stdout",
     "output_type": "stream",
     "text": [
      "Model: \"sequential\"\n",
      "_________________________________________________________________\n",
      " Layer (type)                Output Shape              Param #   \n",
      "=================================================================\n",
      " flatten (Flatten)           (None, 784)               0         \n",
      "                                                                 \n",
      " dense (Dense)               (None, 100)               78500     \n",
      "                                                                 \n",
      " dense_1 (Dense)             (None, 10)                1010      \n",
      "                                                                 \n",
      "=================================================================\n",
      "Total params: 79,510\n",
      "Trainable params: 79,510\n",
      "Non-trainable params: 0\n",
      "_________________________________________________________________\n"
     ]
    }
   ],
   "source": [
    "model = model_fn()\n",
    "model.summary()"
   ]
  },
  {
   "cell_type": "code",
   "execution_count": 6,
   "metadata": {},
   "outputs": [
    {
     "name": "stdout",
     "output_type": "stream",
     "text": [
      "Epoch 1/5\n",
      "1500/1500 [==============================] - 4s 2ms/step - loss: 0.5305 - accuracy: 0.8103\n",
      "Epoch 2/5\n",
      "1500/1500 [==============================] - 3s 2ms/step - loss: 0.3946 - accuracy: 0.8591\n",
      "Epoch 3/5\n",
      "1500/1500 [==============================] - 3s 2ms/step - loss: 0.3586 - accuracy: 0.8729\n",
      "Epoch 4/5\n",
      "1500/1500 [==============================] - 3s 2ms/step - loss: 0.3381 - accuracy: 0.8788\n",
      "Epoch 5/5\n",
      "1500/1500 [==============================] - 3s 2ms/step - loss: 0.3233 - accuracy: 0.8848\n"
     ]
    }
   ],
   "source": [
    "model.compile(loss=\"sparse_categorical_crossentropy\", metrics=\"accuracy\")\n",
    "history = model.fit(train_scaled, train_target, epochs=5)"
   ]
  },
  {
   "cell_type": "code",
   "execution_count": 7,
   "metadata": {},
   "outputs": [
    {
     "data": {
      "text/plain": [
       "dict_keys(['loss', 'accuracy'])"
      ]
     },
     "execution_count": 7,
     "metadata": {},
     "output_type": "execute_result"
    }
   ],
   "source": [
    "history.history.keys()"
   ]
  },
  {
   "cell_type": "markdown",
   "metadata": {},
   "source": [
    "### 손실 곡선\n"
   ]
  },
  {
   "cell_type": "code",
   "execution_count": 8,
   "metadata": {},
   "outputs": [
    {
     "data": {
      "image/png": "[encoded data removed]",
      "text/plain": [
       "<Figure size 432x288 with 1 Axes>"
      ]
     },
     "metadata": {
      "needs_background": "light"
     },
     "output_type": "display_data"
    }
   ],
   "source": [
    "import matplotlib.pyplot as plt\n",
    "plt.plot(history.history[\"loss\"])\n",
    "plt.xlabel(\"epoch\")\n",
    "plt.ylabel(\"loss\")\n",
    "plt.show()"
   ]
  },
  {
   "cell_type": "code",
   "execution_count": 10,
   "metadata": {},
   "outputs": [
    {
     "data": {
      "image/png": "[encoded data removed]",
      "text/plain": [
       "<Figure size 432x288 with 1 Axes>"
      ]
     },
     "metadata": {
      "needs_background": "light"
     },
     "output_type": "display_data"
    }
   ],
   "source": [
    "plt.plot(history.history[\"accuracy\"])\n",
    "plt.xlabel(\"epoch\")\n",
    "plt.ylabel(\"loss\")\n",
    "plt.show()"
   ]
  },
  {
   "cell_type": "markdown",
   "metadata": {},
   "source": [
    "---\n",
    "### 반복 훈련의 증가"
   ]
  },
  {
   "cell_type": "code",
   "execution_count": 11,
   "metadata": {},
   "outputs": [
    {
     "name": "stdout",
     "output_type": "stream",
     "text": [
      "Epoch 1/20\n",
      "1500/1500 [==============================] - 3s 2ms/step - loss: 0.5343 - accuracy: 0.8101\n",
      "Epoch 2/20\n",
      "1500/1500 [==============================] - 3s 2ms/step - loss: 0.3964 - accuracy: 0.8553\n",
      "Epoch 3/20\n",
      "1500/1500 [==============================] - 3s 2ms/step - loss: 0.3572 - accuracy: 0.8723\n",
      "Epoch 4/20\n",
      "1500/1500 [==============================] - 3s 2ms/step - loss: 0.3367 - accuracy: 0.8802\n",
      "Epoch 5/20\n",
      "1500/1500 [==============================] - 3s 2ms/step - loss: 0.3224 - accuracy: 0.8832\n",
      "Epoch 6/20\n",
      "1500/1500 [==============================] - 3s 2ms/step - loss: 0.3103 - accuracy: 0.8896\n",
      "Epoch 7/20\n",
      "1500/1500 [==============================] - 3s 2ms/step - loss: 0.2993 - accuracy: 0.8954\n",
      "Epoch 8/20\n",
      "1500/1500 [==============================] - 3s 2ms/step - loss: 0.2917 - accuracy: 0.8972\n",
      "Epoch 9/20\n",
      "1500/1500 [==============================] - 3s 2ms/step - loss: 0.2845 - accuracy: 0.9009\n",
      "Epoch 10/20\n",
      "1500/1500 [==============================] - 3s 2ms/step - loss: 0.2791 - accuracy: 0.9019\n",
      "Epoch 11/20\n",
      "1500/1500 [==============================] - 3s 2ms/step - loss: 0.2729 - accuracy: 0.9046\n",
      "Epoch 12/20\n",
      "1500/1500 [==============================] - 3s 2ms/step - loss: 0.2653 - accuracy: 0.9073\n",
      "Epoch 13/20\n",
      "1500/1500 [==============================] - 3s 2ms/step - loss: 0.2617 - accuracy: 0.9089\n",
      "Epoch 14/20\n",
      "1500/1500 [==============================] - 3s 2ms/step - loss: 0.2593 - accuracy: 0.9115\n",
      "Epoch 15/20\n",
      "1500/1500 [==============================] - 3s 2ms/step - loss: 0.2544 - accuracy: 0.9115\n",
      "Epoch 16/20\n",
      "1500/1500 [==============================] - 3s 2ms/step - loss: 0.2486 - accuracy: 0.9154\n",
      "Epoch 17/20\n",
      "1500/1500 [==============================] - 3s 2ms/step - loss: 0.2440 - accuracy: 0.9168\n",
      "Epoch 18/20\n",
      "1500/1500 [==============================] - 3s 2ms/step - loss: 0.2386 - accuracy: 0.9184\n",
      "Epoch 19/20\n",
      "1500/1500 [==============================] - 3s 2ms/step - loss: 0.2346 - accuracy: 0.9196\n",
      "Epoch 20/20\n",
      "1500/1500 [==============================] - 3s 2ms/step - loss: 0.2368 - accuracy: 0.9206\n"
     ]
    }
   ],
   "source": [
    "model = model_fn()\n",
    "model.compile(loss=\"sparse_categorical_crossentropy\", metrics=\"accuracy\")\n",
    "history = model.fit(train_scaled, train_target, epochs=20)"
   ]
  },
  {
   "cell_type": "code",
   "execution_count": 12,
   "metadata": {},
   "outputs": [
    {
     "data": {
      "image/png": "[encoded data removed]",
      "text/plain": [
       "<Figure size 432x288 with 1 Axes>"
      ]
     },
     "metadata": {
      "needs_background": "light"
     },
     "output_type": "display_data"
    }
   ],
   "source": [
    "plt.plot(history.history[\"loss\"])\n",
    "plt.xlabel(\"epoch\")\n",
    "plt.ylabel(\"loss\")\n",
    "plt.show()"
   ]
  },
  {
   "cell_type": "code",
   "execution_count": 13,
   "metadata": {},
   "outputs": [
    {
     "data": {
      "image/png": "[encoded data removed]",
      "text/plain": [
       "<Figure size 432x288 with 1 Axes>"
      ]
     },
     "metadata": {
      "needs_background": "light"
     },
     "output_type": "display_data"
    }
   ],
   "source": [
    "plt.plot(history.history[\"accuracy\"])\n",
    "plt.xlabel(\"epoch\")\n",
    "plt.ylabel(\"loss\")\n",
    "plt.show()"
   ]
  },
  {
   "cell_type": "markdown",
   "metadata": {},
   "source": [
    "---\n",
    "### 검증 손실\n",
    ": 검증 세트에 대한 정확도를 파악하기 위해 validation data를 사용한다."
   ]
  },
  {
   "cell_type": "code",
   "execution_count": 15,
   "metadata": {},
   "outputs": [
    {
     "name": "stdout",
     "output_type": "stream",
     "text": [
      "Epoch 1/20\n",
      "1500/1500 [==============================] - 4s 3ms/step - loss: 0.5288 - accuracy: 0.8127 - val_loss: 0.3963 - val_accuracy: 0.8591\n",
      "Epoch 2/20\n",
      "1500/1500 [==============================] - 4s 3ms/step - loss: 0.3899 - accuracy: 0.8602 - val_loss: 0.3963 - val_accuracy: 0.8626\n",
      "Epoch 3/20\n",
      "1500/1500 [==============================] - 4s 2ms/step - loss: 0.3544 - accuracy: 0.8737 - val_loss: 0.3691 - val_accuracy: 0.8725\n",
      "Epoch 4/20\n",
      "1500/1500 [==============================] - 4s 2ms/step - loss: 0.3352 - accuracy: 0.8805 - val_loss: 0.3726 - val_accuracy: 0.8730\n",
      "Epoch 5/20\n",
      "1500/1500 [==============================] - 4s 2ms/step - loss: 0.3194 - accuracy: 0.8876 - val_loss: 0.3822 - val_accuracy: 0.8672\n",
      "Epoch 6/20\n",
      "1500/1500 [==============================] - 4s 2ms/step - loss: 0.3086 - accuracy: 0.8903 - val_loss: 0.3870 - val_accuracy: 0.8727\n",
      "Epoch 7/20\n",
      "1500/1500 [==============================] - 4s 2ms/step - loss: 0.2969 - accuracy: 0.8952 - val_loss: 0.3667 - val_accuracy: 0.8832\n",
      "Epoch 8/20\n",
      "1500/1500 [==============================] - 4s 2ms/step - loss: 0.2883 - accuracy: 0.8973 - val_loss: 0.3968 - val_accuracy: 0.8733\n",
      "Epoch 9/20\n",
      "1500/1500 [==============================] - 4s 2ms/step - loss: 0.2832 - accuracy: 0.8999 - val_loss: 0.4009 - val_accuracy: 0.8793\n",
      "Epoch 10/20\n",
      "1500/1500 [==============================] - 4s 2ms/step - loss: 0.2763 - accuracy: 0.9026 - val_loss: 0.3892 - val_accuracy: 0.8808\n",
      "Epoch 11/20\n",
      "1500/1500 [==============================] - 4s 3ms/step - loss: 0.2703 - accuracy: 0.9053 - val_loss: 0.4133 - val_accuracy: 0.8788\n",
      "Epoch 12/20\n",
      "1500/1500 [==============================] - 4s 3ms/step - loss: 0.2666 - accuracy: 0.9077 - val_loss: 0.4457 - val_accuracy: 0.8656\n",
      "Epoch 13/20\n",
      "1500/1500 [==============================] - 4s 3ms/step - loss: 0.2594 - accuracy: 0.9109 - val_loss: 0.3962 - val_accuracy: 0.8854\n",
      "Epoch 14/20\n",
      "1500/1500 [==============================] - 4s 2ms/step - loss: 0.2537 - accuracy: 0.9119 - val_loss: 0.4504 - val_accuracy: 0.8705\n",
      "Epoch 15/20\n",
      "1500/1500 [==============================] - 4s 3ms/step - loss: 0.2521 - accuracy: 0.9137 - val_loss: 0.4585 - val_accuracy: 0.8765\n",
      "Epoch 16/20\n",
      "1500/1500 [==============================] - 4s 2ms/step - loss: 0.2460 - accuracy: 0.9149 - val_loss: 0.4345 - val_accuracy: 0.8840\n",
      "Epoch 17/20\n",
      "1500/1500 [==============================] - 4s 3ms/step - loss: 0.2440 - accuracy: 0.9165 - val_loss: 0.4586 - val_accuracy: 0.8796\n",
      "Epoch 18/20\n",
      "1500/1500 [==============================] - 4s 2ms/step - loss: 0.2371 - accuracy: 0.9187 - val_loss: 0.4629 - val_accuracy: 0.8783\n",
      "Epoch 19/20\n",
      "1500/1500 [==============================] - 4s 3ms/step - loss: 0.2344 - accuracy: 0.9208 - val_loss: 0.4800 - val_accuracy: 0.8792\n",
      "Epoch 20/20\n",
      "1500/1500 [==============================] - 4s 2ms/step - loss: 0.2318 - accuracy: 0.9210 - val_loss: 0.4966 - val_accuracy: 0.8798\n"
     ]
    }
   ],
   "source": [
    "model = model_fn()\n",
    "model.compile(loss=\"sparse_categorical_crossentropy\", metrics=\"accuracy\")\n",
    "history = model.fit(train_scaled, train_target, epochs=20, validation_data=(val_scaled, val_targe))"
   ]
  },
  {
   "cell_type": "code",
   "execution_count": 16,
   "metadata": {},
   "outputs": [
    {
     "data": {
      "text/plain": [
       "dict_keys(['loss', 'accuracy', 'val_loss', 'val_accuracy'])"
      ]
     },
     "execution_count": 16,
     "metadata": {},
     "output_type": "execute_result"
    }
   ],
   "source": [
    "history.history.keys()"
   ]
  },
  {
   "cell_type": "code",
   "execution_count": 18,
   "metadata": {},
   "outputs": [
    {
     "data": {
      "image/png": "[encoded data removed]",
      "text/plain": [
       "<Figure size 432x288 with 1 Axes>"
      ]
     },
     "metadata": {
      "needs_background": "light"
     },
     "output_type": "display_data"
    }
   ],
   "source": [
    "plt.plot(history.history[\"loss\"])\n",
    "plt.plot(history.history[\"val_loss\"])\n",
    "plt.xlabel(\"epoch\")\n",
    "plt.ylabel(\"loss\")\n",
    "plt.legend([\"train\",\"val\"])\n",
    "plt.show()"
   ]
  },
  {
   "cell_type": "markdown",
   "metadata": {},
   "source": [
    "> 훈련세트는 epochs가 증가함에 따라 손실이 떨어지고 있으나    \n",
    "> 검증세트는 epochs가 증가함에 따라 초반에는 손실이 떨어지나 진행하면 할수록 손실율이 증가한다    \n",
    "> 이 모델은 훈련세트에는 정확도가 높아 좋지만, 검증세트에는 적합하지 않는 과대적합 모델이다.    "
   ]
  },
  {
   "cell_type": "markdown",
   "metadata": {},
   "source": [
    "---\n",
    "### Optimizer (adam)"
   ]
  },
  {
   "cell_type": "code",
   "execution_count": 19,
   "metadata": {},
   "outputs": [
    {
     "name": "stdout",
     "output_type": "stream",
     "text": [
      "Epoch 1/20\n",
      "1500/1500 [==============================] - 4s 2ms/step - loss: 0.5196 - accuracy: 0.8180 - val_loss: 0.4336 - val_accuracy: 0.8450\n",
      "Epoch 2/20\n",
      "1500/1500 [==============================] - 3s 2ms/step - loss: 0.3892 - accuracy: 0.8625 - val_loss: 0.3756 - val_accuracy: 0.8637\n",
      "Epoch 3/20\n",
      "1500/1500 [==============================] - 3s 2ms/step - loss: 0.3488 - accuracy: 0.8730 - val_loss: 0.3805 - val_accuracy: 0.8652\n",
      "Epoch 4/20\n",
      "1500/1500 [==============================] - 3s 2ms/step - loss: 0.3226 - accuracy: 0.8815 - val_loss: 0.3460 - val_accuracy: 0.8770\n",
      "Epoch 5/20\n",
      "1500/1500 [==============================] - 3s 2ms/step - loss: 0.3036 - accuracy: 0.8876 - val_loss: 0.3514 - val_accuracy: 0.8757\n",
      "Epoch 6/20\n",
      "1500/1500 [==============================] - 3s 2ms/step - loss: 0.2884 - accuracy: 0.8941 - val_loss: 0.3365 - val_accuracy: 0.8790\n",
      "Epoch 7/20\n",
      "1500/1500 [==============================] - 3s 2ms/step - loss: 0.2764 - accuracy: 0.8978 - val_loss: 0.3434 - val_accuracy: 0.8773\n",
      "Epoch 8/20\n",
      "1500/1500 [==============================] - 3s 2ms/step - loss: 0.2669 - accuracy: 0.8998 - val_loss: 0.3361 - val_accuracy: 0.8794\n",
      "Epoch 9/20\n",
      "1500/1500 [==============================] - 3s 2ms/step - loss: 0.2550 - accuracy: 0.9058 - val_loss: 0.3214 - val_accuracy: 0.8863\n",
      "Epoch 10/20\n",
      "1500/1500 [==============================] - 3s 2ms/step - loss: 0.2471 - accuracy: 0.9069 - val_loss: 0.3230 - val_accuracy: 0.8854\n",
      "Epoch 11/20\n",
      "1500/1500 [==============================] - 3s 2ms/step - loss: 0.2397 - accuracy: 0.9109 - val_loss: 0.3334 - val_accuracy: 0.8800\n",
      "Epoch 12/20\n",
      "1500/1500 [==============================] - 3s 2ms/step - loss: 0.2293 - accuracy: 0.9147 - val_loss: 0.3283 - val_accuracy: 0.8844\n",
      "Epoch 13/20\n",
      "1500/1500 [==============================] - 3s 2ms/step - loss: 0.2256 - accuracy: 0.9159 - val_loss: 0.3397 - val_accuracy: 0.8863\n",
      "Epoch 14/20\n",
      "1500/1500 [==============================] - 3s 2ms/step - loss: 0.2173 - accuracy: 0.9203 - val_loss: 0.3488 - val_accuracy: 0.8828\n",
      "Epoch 15/20\n",
      "1500/1500 [==============================] - 3s 2ms/step - loss: 0.2135 - accuracy: 0.9186 - val_loss: 0.3411 - val_accuracy: 0.8852\n",
      "Epoch 16/20\n",
      "1500/1500 [==============================] - 3s 2ms/step - loss: 0.2069 - accuracy: 0.9232 - val_loss: 0.3341 - val_accuracy: 0.8875\n",
      "Epoch 17/20\n",
      "1500/1500 [==============================] - 3s 2ms/step - loss: 0.2023 - accuracy: 0.9236 - val_loss: 0.3411 - val_accuracy: 0.8841\n",
      "Epoch 18/20\n",
      "1500/1500 [==============================] - 3s 2ms/step - loss: 0.1970 - accuracy: 0.9274 - val_loss: 0.3468 - val_accuracy: 0.8906\n",
      "Epoch 19/20\n",
      "1500/1500 [==============================] - 3s 2ms/step - loss: 0.1920 - accuracy: 0.9284 - val_loss: 0.3466 - val_accuracy: 0.8866\n",
      "Epoch 20/20\n",
      "1500/1500 [==============================] - 3s 2ms/step - loss: 0.1870 - accuracy: 0.9305 - val_loss: 0.3433 - val_accuracy: 0.8828\n"
     ]
    }
   ],
   "source": [
    "model = model_fn()\n",
    "model.compile(optimizer=\"adam\",loss=\"sparse_categorical_crossentropy\", metrics=\"accuracy\")\n",
    "history = model.fit(train_scaled, train_target, epochs=20, validation_data=(val_scaled, val_targe))"
   ]
  },
  {
   "cell_type": "code",
   "execution_count": 20,
   "metadata": {},
   "outputs": [
    {
     "data": {
      "image/png": "[encoded data removed]",
      "text/plain": [
       "<Figure size 432x288 with 1 Axes>"
      ]
     },
     "metadata": {
      "needs_background": "light"
     },
     "output_type": "display_data"
    }
   ],
   "source": [
    "plt.plot(history.history[\"loss\"])\n",
    "plt.plot(history.history[\"val_loss\"])\n",
    "plt.xlabel(\"epoch\")\n",
    "plt.ylabel(\"loss\")\n",
    "plt.legend([\"train\",\"val\"])\n",
    "plt.show()"
   ]
  },
  {
   "cell_type": "markdown",
   "metadata": {},
   "source": [
    "> 훈련세트는 epochs가 증가함에 따라 손실이 떨어지고 있으나    \n",
    "> 검증세트는 epochs가 증가함에 따라 초반에는 손실이 떨어지나 진행하면 할수록 손실율이 증가한다    \n",
    "> 이 모델은 훈련세트에는 정확도가 높아 좋지만, 검증세트에는 적합하지 않는 과대적합 모델이다.    \n",
    "> Optimizer(최적화 알고리즘)을 사용한 것이 좀 더 나은 모델이나 검증 손실에 대한 부분(과대적합)은 아직 해결이 안됨    "
   ]
  },
  {
   "cell_type": "markdown",
   "metadata": {},
   "source": [
    "---\n",
    "# Dropout\n",
    "- 규제\n",
    "- 신경망 모델에만 있음\n",
    "- 훈련시에만 각 sample을 처리할 때 은닉충의 임의의 node를 계산에 포함시키지 않는다"
   ]
  },
  {
   "cell_type": "code",
   "execution_count": 21,
   "metadata": {},
   "outputs": [
    {
     "name": "stdout",
     "output_type": "stream",
     "text": [
      "Model: \"sequential_5\"\n",
      "_________________________________________________________________\n",
      " Layer (type)                Output Shape              Param #   \n",
      "=================================================================\n",
      " flatten_5 (Flatten)         (None, 784)               0         \n",
      "                                                                 \n",
      " dense_10 (Dense)            (None, 100)               78500     \n",
      "                                                                 \n",
      " dropout (Dropout)           (None, 100)               0         \n",
      "                                                                 \n",
      " dense_11 (Dense)            (None, 10)                1010      \n",
      "                                                                 \n",
      "=================================================================\n",
      "Total params: 79,510\n",
      "Trainable params: 79,510\n",
      "Non-trainable params: 0\n",
      "_________________________________________________________________\n"
     ]
    }
   ],
   "source": [
    "# model에 dropout을 추가\n",
    "\n",
    "model = model_fn(keras.layers.Dropout(0.3)) # dropout 30%\n",
    "model.summary()"
   ]
  },
  {
   "cell_type": "code",
   "execution_count": 22,
   "metadata": {},
   "outputs": [
    {
     "name": "stdout",
     "output_type": "stream",
     "text": [
      "Epoch 1/20\n",
      "1500/1500 [==============================] - 4s 2ms/step - loss: 0.5893 - accuracy: 0.7918 - val_loss: 0.4308 - val_accuracy: 0.8432\n",
      "Epoch 2/20\n",
      "1500/1500 [==============================] - 3s 2ms/step - loss: 0.4397 - accuracy: 0.8429 - val_loss: 0.3951 - val_accuracy: 0.8571\n",
      "Epoch 3/20\n",
      "1500/1500 [==============================] - 3s 2ms/step - loss: 0.4009 - accuracy: 0.8535 - val_loss: 0.3593 - val_accuracy: 0.8695\n",
      "Epoch 4/20\n",
      "1500/1500 [==============================] - 3s 2ms/step - loss: 0.3825 - accuracy: 0.8600 - val_loss: 0.3606 - val_accuracy: 0.8673\n",
      "Epoch 5/20\n",
      "1500/1500 [==============================] - 3s 2ms/step - loss: 0.3676 - accuracy: 0.8655 - val_loss: 0.3453 - val_accuracy: 0.8721\n",
      "Epoch 6/20\n",
      "1500/1500 [==============================] - 3s 2ms/step - loss: 0.3537 - accuracy: 0.8701 - val_loss: 0.3465 - val_accuracy: 0.8716\n",
      "Epoch 7/20\n",
      "1500/1500 [==============================] - 3s 2ms/step - loss: 0.3468 - accuracy: 0.8708 - val_loss: 0.3361 - val_accuracy: 0.8747\n",
      "Epoch 8/20\n",
      "1500/1500 [==============================] - 3s 2ms/step - loss: 0.3320 - accuracy: 0.8763 - val_loss: 0.3360 - val_accuracy: 0.8756\n",
      "Epoch 9/20\n",
      "1500/1500 [==============================] - 3s 2ms/step - loss: 0.3268 - accuracy: 0.8789 - val_loss: 0.3442 - val_accuracy: 0.8775\n",
      "Epoch 10/20\n",
      "1500/1500 [==============================] - 3s 2ms/step - loss: 0.3218 - accuracy: 0.8797 - val_loss: 0.3488 - val_accuracy: 0.8755\n",
      "Epoch 11/20\n",
      "1500/1500 [==============================] - 3s 2ms/step - loss: 0.3131 - accuracy: 0.8837 - val_loss: 0.3400 - val_accuracy: 0.8754\n",
      "Epoch 12/20\n",
      "1500/1500 [==============================] - 3s 2ms/step - loss: 0.3081 - accuracy: 0.8842 - val_loss: 0.3192 - val_accuracy: 0.8879\n",
      "Epoch 13/20\n",
      "1500/1500 [==============================] - 3s 2ms/step - loss: 0.3042 - accuracy: 0.8856 - val_loss: 0.3183 - val_accuracy: 0.8890\n",
      "Epoch 14/20\n",
      "1500/1500 [==============================] - 3s 2ms/step - loss: 0.2970 - accuracy: 0.8874 - val_loss: 0.3291 - val_accuracy: 0.8814\n",
      "Epoch 15/20\n",
      "1500/1500 [==============================] - 4s 2ms/step - loss: 0.2951 - accuracy: 0.8898 - val_loss: 0.3199 - val_accuracy: 0.8826\n",
      "Epoch 16/20\n",
      "1500/1500 [==============================] - 3s 2ms/step - loss: 0.2887 - accuracy: 0.8906 - val_loss: 0.3460 - val_accuracy: 0.8792\n",
      "Epoch 17/20\n",
      "1500/1500 [==============================] - 3s 2ms/step - loss: 0.2864 - accuracy: 0.8913 - val_loss: 0.3207 - val_accuracy: 0.8890\n",
      "Epoch 18/20\n",
      "1500/1500 [==============================] - 3s 2ms/step - loss: 0.2872 - accuracy: 0.8909 - val_loss: 0.3265 - val_accuracy: 0.8859\n",
      "Epoch 19/20\n",
      "1500/1500 [==============================] - 3s 2ms/step - loss: 0.2823 - accuracy: 0.8930 - val_loss: 0.3170 - val_accuracy: 0.8909\n",
      "Epoch 20/20\n",
      "1500/1500 [==============================] - 3s 2ms/step - loss: 0.2747 - accuracy: 0.8959 - val_loss: 0.3230 - val_accuracy: 0.8892\n"
     ]
    }
   ],
   "source": [
    "model.compile(optimizer=\"adam\",loss=\"sparse_categorical_crossentropy\", metrics=\"accuracy\")\n",
    "history = model.fit(train_scaled, train_target, epochs=20, validation_data=(val_scaled, val_targe))"
   ]
  },
  {
   "cell_type": "code",
   "execution_count": 23,
   "metadata": {},
   "outputs": [
    {
     "data": {
      "image/png": "[encoded data removed]",
      "text/plain": [
       "<Figure size 432x288 with 1 Axes>"
      ]
     },
     "metadata": {
      "needs_background": "light"
     },
     "output_type": "display_data"
    }
   ],
   "source": [
    "plt.plot(history.history[\"loss\"])\n",
    "plt.plot(history.history[\"val_loss\"])\n",
    "plt.xlabel(\"epoch\")\n",
    "plt.ylabel(\"loss\")\n",
    "plt.legend([\"train\",\"val\"])\n",
    "plt.show()"
   ]
  },
  {
   "cell_type": "markdown",
   "metadata": {},
   "source": [
    "> epochs가 10일 경우가 train과 val의 차이가 적은 것 같다.    \n",
    "> 기본적으로 훈련세트의 손실이 검증세트보다 적게 나오는 epochs의 개수를 선택한다.    "
   ]
  },
  {
   "cell_type": "markdown",
   "metadata": {},
   "source": [
    "---\n",
    "### 모델의 저장과 복원\n",
    "- hdf5 format으로 저장"
   ]
  },
  {
   "cell_type": "code",
   "execution_count": 24,
   "metadata": {},
   "outputs": [],
   "source": [
    "# model 저장\n",
    "model.save(\"../Data/model-whole.h5\")"
   ]
  },
  {
   "cell_type": "code",
   "execution_count": 25,
   "metadata": {},
   "outputs": [],
   "source": [
    "# 복원\n",
    "model = keras.models.load_model(\"../Data/model-whole.h5\")"
   ]
  },
  {
   "cell_type": "code",
   "execution_count": 26,
   "metadata": {},
   "outputs": [
    {
     "name": "stdout",
     "output_type": "stream",
     "text": [
      "375/375 [==============================] - 1s 1ms/step - loss: 0.3230 - accuracy: 0.8892\n"
     ]
    },
    {
     "data": {
      "text/plain": [
       "[0.32297283411026, 0.8892499804496765]"
      ]
     },
     "execution_count": 26,
     "metadata": {},
     "output_type": "execute_result"
    }
   ],
   "source": [
    "# 사용\n",
    "model.evaluate(val_scaled, val_targe)"
   ]
  },
  {
   "cell_type": "markdown",
   "metadata": {},
   "source": [
    "---\n",
    "# Callbacks\n",
    "- 훈련수행시 손실값이 제일 작은 함수를 저장해준다.  <- 굉장히 편함\n"
   ]
  },
  {
   "cell_type": "code",
   "execution_count": 27,
   "metadata": {},
   "outputs": [
    {
     "name": "stdout",
     "output_type": "stream",
     "text": [
      "Epoch 1/20\n",
      "1500/1500 [==============================] - 4s 2ms/step - loss: 0.5884 - accuracy: 0.7928 - val_loss: 0.4259 - val_accuracy: 0.8485\n",
      "Epoch 2/20\n",
      "1500/1500 [==============================] - 3s 2ms/step - loss: 0.4418 - accuracy: 0.8425 - val_loss: 0.3983 - val_accuracy: 0.8559\n",
      "Epoch 3/20\n",
      "1500/1500 [==============================] - 3s 2ms/step - loss: 0.4054 - accuracy: 0.8535 - val_loss: 0.3608 - val_accuracy: 0.8687\n",
      "Epoch 4/20\n",
      "1500/1500 [==============================] - 3s 2ms/step - loss: 0.3816 - accuracy: 0.8613 - val_loss: 0.3673 - val_accuracy: 0.8631\n",
      "Epoch 5/20\n",
      "1500/1500 [==============================] - 3s 2ms/step - loss: 0.3654 - accuracy: 0.8674 - val_loss: 0.3456 - val_accuracy: 0.8727\n",
      "Epoch 6/20\n",
      "1500/1500 [==============================] - 3s 2ms/step - loss: 0.3524 - accuracy: 0.8708 - val_loss: 0.3468 - val_accuracy: 0.8740\n",
      "Epoch 7/20\n",
      "1500/1500 [==============================] - 3s 2ms/step - loss: 0.3426 - accuracy: 0.8752 - val_loss: 0.3335 - val_accuracy: 0.8767\n",
      "Epoch 8/20\n",
      "1500/1500 [==============================] - 3s 2ms/step - loss: 0.3344 - accuracy: 0.8758 - val_loss: 0.3361 - val_accuracy: 0.8793\n",
      "Epoch 9/20\n",
      "1500/1500 [==============================] - 3s 2ms/step - loss: 0.3264 - accuracy: 0.8784 - val_loss: 0.3386 - val_accuracy: 0.8770\n",
      "Epoch 10/20\n",
      "1500/1500 [==============================] - 3s 2ms/step - loss: 0.3222 - accuracy: 0.8815 - val_loss: 0.3196 - val_accuracy: 0.8827\n",
      "Epoch 11/20\n",
      "1500/1500 [==============================] - 3s 2ms/step - loss: 0.3132 - accuracy: 0.8840 - val_loss: 0.3187 - val_accuracy: 0.8848\n",
      "Epoch 12/20\n",
      "1500/1500 [==============================] - 3s 2ms/step - loss: 0.3087 - accuracy: 0.8845 - val_loss: 0.3175 - val_accuracy: 0.8848\n",
      "Epoch 13/20\n",
      "1500/1500 [==============================] - 3s 2ms/step - loss: 0.3018 - accuracy: 0.8875 - val_loss: 0.3293 - val_accuracy: 0.8828\n",
      "Epoch 14/20\n",
      "1500/1500 [==============================] - 3s 2ms/step - loss: 0.3004 - accuracy: 0.8883 - val_loss: 0.3240 - val_accuracy: 0.8829\n",
      "Epoch 15/20\n",
      "1500/1500 [==============================] - 3s 2ms/step - loss: 0.2939 - accuracy: 0.8888 - val_loss: 0.3219 - val_accuracy: 0.8863\n",
      "Epoch 16/20\n",
      "1500/1500 [==============================] - 3s 2ms/step - loss: 0.2927 - accuracy: 0.8903 - val_loss: 0.3232 - val_accuracy: 0.8834\n",
      "Epoch 17/20\n",
      "1500/1500 [==============================] - 4s 2ms/step - loss: 0.2850 - accuracy: 0.8932 - val_loss: 0.3256 - val_accuracy: 0.8848\n",
      "Epoch 18/20\n",
      "1500/1500 [==============================] - 3s 2ms/step - loss: 0.2840 - accuracy: 0.8929 - val_loss: 0.3170 - val_accuracy: 0.8898\n",
      "Epoch 19/20\n",
      "1500/1500 [==============================] - 3s 2ms/step - loss: 0.2791 - accuracy: 0.8966 - val_loss: 0.3202 - val_accuracy: 0.8882\n",
      "Epoch 20/20\n",
      "1500/1500 [==============================] - 3s 2ms/step - loss: 0.2752 - accuracy: 0.8959 - val_loss: 0.3364 - val_accuracy: 0.8831\n"
     ]
    },
    {
     "data": {
      "text/plain": [
       "<keras.callbacks.History at 0x7ff44eec8f10>"
      ]
     },
     "execution_count": 27,
     "metadata": {},
     "output_type": "execute_result"
    }
   ],
   "source": [
    "model = model_fn(keras.layers.Dropout(0.3)) # dropout 30%\n",
    "model.compile(optimizer=\"adam\",loss=\"sparse_categorical_crossentropy\", metrics=\"accuracy\")\n",
    "checkpoint_cb = keras.callbacks.ModelCheckpoint(\"../Data/best-model.h5\")\n",
    "model.fit(train_scaled, train_target, epochs=20, validation_data=(val_scaled, val_targe),\n",
    "          callbacks = [checkpoint_cb]\n",
    ")"
   ]
  },
  {
   "cell_type": "code",
   "execution_count": 28,
   "metadata": {},
   "outputs": [
    {
     "name": "stdout",
     "output_type": "stream",
     "text": [
      "375/375 [==============================] - 1s 2ms/step - loss: 0.3364 - accuracy: 0.8831\n"
     ]
    },
    {
     "data": {
      "text/plain": [
       "[0.3364158868789673, 0.8830833435058594]"
      ]
     },
     "execution_count": 28,
     "metadata": {},
     "output_type": "execute_result"
    }
   ],
   "source": [
    "model = keras.models.load_model(\"../Data/best-model.h5\")\n",
    "model.evaluate(val_scaled, val_targe)"
   ]
  },
  {
   "cell_type": "markdown",
   "metadata": {},
   "source": [
    "---\n",
    "# Early-Stopping(조기 종료)\n",
    "- Callbacks처럼 끝까지 기다리는 것이 아니고 hyper parameter을 선정하여 한계값을 정해 실행한다.\n"
   ]
  },
  {
   "cell_type": "code",
   "execution_count": 29,
   "metadata": {},
   "outputs": [
    {
     "name": "stdout",
     "output_type": "stream",
     "text": [
      "Epoch 1/20\n",
      "1500/1500 [==============================] - 4s 2ms/step - loss: 0.5876 - accuracy: 0.7908 - val_loss: 0.4355 - val_accuracy: 0.8389\n",
      "Epoch 2/20\n",
      "1500/1500 [==============================] - 3s 2ms/step - loss: 0.4432 - accuracy: 0.8396 - val_loss: 0.3840 - val_accuracy: 0.8636\n",
      "Epoch 3/20\n",
      "1500/1500 [==============================] - 3s 2ms/step - loss: 0.4052 - accuracy: 0.8535 - val_loss: 0.3632 - val_accuracy: 0.8658\n",
      "Epoch 4/20\n",
      "1500/1500 [==============================] - 4s 3ms/step - loss: 0.3820 - accuracy: 0.8597 - val_loss: 0.3657 - val_accuracy: 0.8637\n",
      "Epoch 5/20\n",
      "1500/1500 [==============================] - 4s 2ms/step - loss: 0.3675 - accuracy: 0.8662 - val_loss: 0.3457 - val_accuracy: 0.8733\n",
      "Epoch 6/20\n",
      "1500/1500 [==============================] - 3s 2ms/step - loss: 0.3580 - accuracy: 0.8689 - val_loss: 0.3498 - val_accuracy: 0.8705\n",
      "Epoch 7/20\n",
      "1500/1500 [==============================] - 3s 2ms/step - loss: 0.3477 - accuracy: 0.8717 - val_loss: 0.3386 - val_accuracy: 0.8763\n",
      "Epoch 8/20\n",
      "1500/1500 [==============================] - 3s 2ms/step - loss: 0.3325 - accuracy: 0.8762 - val_loss: 0.3398 - val_accuracy: 0.8756\n",
      "Epoch 9/20\n",
      "1500/1500 [==============================] - 3s 2ms/step - loss: 0.3277 - accuracy: 0.8784 - val_loss: 0.3343 - val_accuracy: 0.8770\n",
      "Epoch 10/20\n",
      "1500/1500 [==============================] - 3s 2ms/step - loss: 0.3218 - accuracy: 0.8818 - val_loss: 0.3234 - val_accuracy: 0.8838\n",
      "Epoch 11/20\n",
      "1500/1500 [==============================] - 3s 2ms/step - loss: 0.3145 - accuracy: 0.8849 - val_loss: 0.3224 - val_accuracy: 0.8838\n",
      "Epoch 12/20\n",
      "1500/1500 [==============================] - 3s 2ms/step - loss: 0.3133 - accuracy: 0.8843 - val_loss: 0.3304 - val_accuracy: 0.8820\n",
      "Epoch 13/20\n",
      "1500/1500 [==============================] - 3s 2ms/step - loss: 0.3078 - accuracy: 0.8853 - val_loss: 0.3326 - val_accuracy: 0.8785\n"
     ]
    }
   ],
   "source": [
    "model = model_fn(keras.layers.Dropout(0.3)) # dropout 30%\n",
    "model.compile(optimizer=\"adam\",loss=\"sparse_categorical_crossentropy\", metrics=\"accuracy\")\n",
    "\n",
    "checkpoint_cb = keras.callbacks.ModelCheckpoint(\"../Data/best-model.h5\")\n",
    "early_stopping_cb = keras.callbacks.EarlyStopping(patience=2, restore_best_weights=True)\n",
    "\n",
    "history = model.fit(train_scaled, train_target, epochs=20, validation_data=(val_scaled, val_targe),\n",
    "          callbacks = [checkpoint_cb, early_stopping_cb], \n",
    ")"
   ]
  },
  {
   "cell_type": "code",
   "execution_count": 30,
   "metadata": {},
   "outputs": [
    {
     "data": {
      "text/plain": [
       "12"
      ]
     },
     "execution_count": 30,
     "metadata": {},
     "output_type": "execute_result"
    }
   ],
   "source": [
    "# 몇번째 epochs에서 stop 되었는가?\n",
    "early_stopping_cb.stopped_epoch"
   ]
  },
  {
   "cell_type": "code",
   "execution_count": 31,
   "metadata": {},
   "outputs": [
    {
     "data": {
      "image/png": "[encoded data removed]",
      "text/plain": [
       "<Figure size 432x288 with 1 Axes>"
      ]
     },
     "metadata": {
      "needs_background": "light"
     },
     "output_type": "display_data"
    }
   ],
   "source": [
    "plt.plot(history.history[\"loss\"])\n",
    "plt.plot(history.history[\"val_loss\"])\n",
    "plt.xlabel(\"epoch\")\n",
    "plt.ylabel(\"loss\")\n",
    "plt.legend([\"train\",\"val\"])\n",
    "plt.show()"
   ]
  },
  {
   "cell_type": "code",
   "execution_count": null,
   "metadata": {},
   "outputs": [],
   "source": []
  },
  {
   "cell_type": "code",
   "execution_count": null,
   "metadata": {},
   "outputs": [],
   "source": []
  },
  {
   "cell_type": "code",
   "execution_count": null,
   "metadata": {},
   "outputs": [],
   "source": []
  },
  {
   "cell_type": "code",
   "execution_count": null,
   "metadata": {},
   "outputs": [],
   "source": []
  },
  {
   "cell_type": "code",
   "execution_count": null,
   "metadata": {},
   "outputs": [],
   "source": []
  },
  {
   "cell_type": "code",
   "execution_count": null,
   "metadata": {},
   "outputs": [],
   "source": []
  }
 ],
 "metadata": {
  "kernelspec": {
   "display_name": "Python 3.9.7 ('base')",
   "language": "python",
   "name": "python3"
  },
  "language_info": {
   "codemirror_mode": {
    "name": "ipython",
    "version": 3
   },
   "file_extension": ".py",
   "mimetype": "text/x-python",
   "name": "python",
   "nbconvert_exporter": "python",
   "pygments_lexer": "ipython3",
   "version": "3.9.7"
  },
  "orig_nbformat": 4,
  "vscode": {
   "interpreter": {
    "hash": "c34e8390e776d2ee205b71ed5a6130fee3cef8da5e87e926ce18e14f4a070d72"
   }
  }
 },
 "nbformat": 4,
 "nbformat_minor": 2
}
